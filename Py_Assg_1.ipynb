{
  "nbformat": 4,
  "nbformat_minor": 0,
  "metadata": {
    "colab": {
      "provenance": [],
      "authorship_tag": "ABX9TyNAzDXSGLWzbGANWQmCKMS+",
      "include_colab_link": true
    },
    "kernelspec": {
      "name": "python3",
      "display_name": "Python 3"
    },
    "language_info": {
      "name": "python"
    }
  },
  "cells": [
    {
      "cell_type": "markdown",
      "metadata": {
        "id": "view-in-github",
        "colab_type": "text"
      },
      "source": [
        "<a href=\"https://colab.research.google.com/github/hiba0903/DSA-Daily-Tasks/blob/main/Py_Assg_1.ipynb\" target=\"_parent\"><img src=\"https://colab.research.google.com/assets/colab-badge.svg\" alt=\"Open In Colab\"/></a>"
      ]
    },
    {
      "cell_type": "markdown",
      "source": [
        "## Assignment 1"
      ],
      "metadata": {
        "id": "SoFh80Gqhg_Y"
      }
    },
    {
      "cell_type": "markdown",
      "source": [
        "1. Write a Python program which accepts the radius of a circle from the user\n",
        "and compute the area.\n",
        "Sample input: Enter the radius: 3\n",
        "Sample output: Area of Circle is 28.59999999999"
      ],
      "metadata": {
        "id": "xumKQz9YeJf8"
      }
    },
    {
      "cell_type": "code",
      "source": [
        "import math\n",
        "\n",
        "# Accept radius from the user\n",
        "radius = float(input(\"Enter the radius: \"))\n",
        "\n",
        "# Compute the area\n",
        "area = math.pi * radius * radius\n",
        "\n",
        "# Display the area\n",
        "print(f\"Area of Circle is {area}\")\n"
      ],
      "metadata": {
        "colab": {
          "base_uri": "https://localhost:8080/"
        },
        "id": "VjIPRsdReMME",
        "outputId": "03c5eccd-789c-4842-b092-408f7a68d8a1"
      },
      "execution_count": 1,
      "outputs": [
        {
          "output_type": "stream",
          "name": "stdout",
          "text": [
            "Enter the radius: 2\n",
            "Area of Circle is 12.566370614359172\n"
          ]
        }
      ]
    },
    {
      "cell_type": "markdown",
      "source": [
        "2. Write a Python Program to accept the details of a student like name, roll\n",
        "number and mark and display it.\n",
        "Sample input: Enter the name: Anisha\n",
        "Enter the roll number: 21\n",
        "Enter the mark: 78\n",
        "Sample output: Name: Anisha\n",
        "Roll No: 21\n",
        "Mark: 78\n"
      ],
      "metadata": {
        "id": "KO0jPzjYefsE"
      }
    },
    {
      "cell_type": "code",
      "source": [
        "# Accept student details from the user\n",
        "name = input(\"Enter the name: \")\n",
        "roll_number = input(\"Enter the roll number: \")\n",
        "mark = input(\"Enter the mark: \")\n",
        "\n",
        "# Display student details\n",
        "print(f\"Name: {name}\")\n",
        "print(f\"Roll No: {roll_number}\")\n",
        "print(f\"Mark: {mark}\")\n"
      ],
      "metadata": {
        "colab": {
          "base_uri": "https://localhost:8080/"
        },
        "id": "ZnNVgRg8eVBj",
        "outputId": "1cd6f833-9980-435e-ab3f-8c5c825b68e5"
      },
      "execution_count": 2,
      "outputs": [
        {
          "output_type": "stream",
          "name": "stdout",
          "text": [
            "Enter the name: Anisha\n",
            "Enter the roll number: 21\n",
            "Enter the mark: 78\n",
            "Name: Anisha\n",
            "Roll No: 21\n",
            "Mark: 78\n"
          ]
        }
      ]
    },
    {
      "cell_type": "markdown",
      "source": [
        "3. Write a Python program to get the largest number from a list.\n",
        "Sample input: 12, 3, 47, 10\n",
        "Sample output: 47 is the largest number."
      ],
      "metadata": {
        "id": "gcRYfgwpezsK"
      }
    },
    {
      "cell_type": "code",
      "source": [
        "numbers = list(map(int, input(\"Enter numbers separated by commas: \").split(',')))\n",
        "\n",
        "largest = max(numbers)\n",
        "\n",
        "print(f\"{largest} is the largest number.\")\n"
      ],
      "metadata": {
        "colab": {
          "base_uri": "https://localhost:8080/"
        },
        "id": "Z_Fzo87yemV3",
        "outputId": "7b67ae97-04dc-4a35-db81-f6242a15639d"
      },
      "execution_count": 3,
      "outputs": [
        {
          "output_type": "stream",
          "name": "stdout",
          "text": [
            "Enter numbers separated by commas: 2,8,6,2,0,7\n",
            "8 is the largest number.\n"
          ]
        }
      ]
    },
    {
      "cell_type": "markdown",
      "source": [
        "4. Given a range of first 10 numbers, write a Python program to iterate from\n",
        "start number to the end number and print the sum of the current number\n",
        "and previous number.\n",
        "Sample input: 1….10\n",
        "Sample output: Current Number 1 Previous Number 0 Sum: 1 Current\n",
        "Number 2 Previous Number 1 Sum: 3 Current Number 3 Previous\n",
        "Number 2 Sum: 5… Current Number 10 Previous Number 9 Sum: 19"
      ],
      "metadata": {
        "id": "Jdx7-1xSfECg"
      }
    },
    {
      "cell_type": "code",
      "source": [
        "previous_number = 0\n",
        "for current_number in range(1, 11):\n",
        "    _sum = current_number + previous_number\n",
        "    print(f\"Current Number {current_number} Previous Number {previous_number} Sum: {_sum}\")\n",
        "    previous_number = current_number\n"
      ],
      "metadata": {
        "colab": {
          "base_uri": "https://localhost:8080/"
        },
        "id": "IMfeKf9Ie7ll",
        "outputId": "6c8c80dd-b2a7-4deb-c0bc-d1ab30bc3937"
      },
      "execution_count": 4,
      "outputs": [
        {
          "output_type": "stream",
          "name": "stdout",
          "text": [
            "Current Number 1 Previous Number 0 Sum: 1\n",
            "Current Number 2 Previous Number 1 Sum: 3\n",
            "Current Number 3 Previous Number 2 Sum: 5\n",
            "Current Number 4 Previous Number 3 Sum: 7\n",
            "Current Number 5 Previous Number 4 Sum: 9\n",
            "Current Number 6 Previous Number 5 Sum: 11\n",
            "Current Number 7 Previous Number 6 Sum: 13\n",
            "Current Number 8 Previous Number 7 Sum: 15\n",
            "Current Number 9 Previous Number 8 Sum: 17\n",
            "Current Number 10 Previous Number 9 Sum: 19\n"
          ]
        }
      ]
    },
    {
      "cell_type": "markdown",
      "source": [
        "5. Write a Python program to print only those numbers which are divisible\n",
        "of 5.\n",
        "Sample input: 10, 20,33,46,55 Sample output: 10, 20, 55"
      ],
      "metadata": {
        "id": "ww8GvRVwfTx7"
      }
    },
    {
      "cell_type": "code",
      "source": [
        "numbers = list(map(int, input(\"Enter numbers separated by commas: \").split(',')))\n",
        "\n",
        "divisible_by_5 = [num for num in numbers if num % 5 == 0]\n",
        "print(divisible_by_5)\n"
      ],
      "metadata": {
        "colab": {
          "base_uri": "https://localhost:8080/"
        },
        "id": "AX3hX2YCfNYe",
        "outputId": "dc4dfa7d-a1e6-47d9-cf24-01d722dcf8f1"
      },
      "execution_count": 9,
      "outputs": [
        {
          "output_type": "stream",
          "name": "stdout",
          "text": [
            "Enter numbers separated by commas: 1,8,3,6,2,7\n",
            "[]\n"
          ]
        }
      ]
    },
    {
      "cell_type": "markdown",
      "source": [
        "6. Write a Python program to check whether a number is prime or not.\n",
        "Sample input: Enter the number: 3\n",
        "Sample output: 3 is a prime number"
      ],
      "metadata": {
        "id": "4wcZe6VDgi94"
      }
    },
    {
      "cell_type": "code",
      "source": [
        "def is_prime(num):\n",
        "    if num <= 1:\n",
        "        return False\n",
        "    for i in range(2, int(num**0.5) + 1):\n",
        "        if num % i == 0:\n",
        "            return False\n",
        "    return True\n",
        "\n",
        "# Accept number from the user\n",
        "number = int(input(\"Enter the number: \"))\n",
        "\n",
        "# Check if it is prime\n",
        "if is_prime(number):\n",
        "    print(f\"{number} is a prime number.\")\n",
        "else:\n",
        "    print(f\"{number} is not a prime number.\")\n"
      ],
      "metadata": {
        "colab": {
          "base_uri": "https://localhost:8080/"
        },
        "id": "SUeF5tZBfX2T",
        "outputId": "028a8d1e-9121-44ec-f883-46489362b9cf"
      },
      "execution_count": 10,
      "outputs": [
        {
          "output_type": "stream",
          "name": "stdout",
          "text": [
            "Enter the number: 22\n",
            "22 is not a prime number.\n"
          ]
        }
      ]
    },
    {
      "cell_type": "markdown",
      "source": [
        "7. Write a Python program to reverse a list using for loop.\n",
        "Sample input: 10,40,30,70\n",
        "Sample output: 70,30,40,10"
      ],
      "metadata": {
        "id": "2RWx4MEAgtWj"
      }
    },
    {
      "cell_type": "code",
      "source": [
        "# Input list of numbers from the user\n",
        "numbers = list(map(int, input(\"Enter numbers separated by commas: \").split(',')))\n",
        "\n",
        "# Reverse the list using a for loop\n",
        "reversed_list = []\n",
        "for num in numbers:\n",
        "    reversed_list.insert(0, num)\n",
        "\n",
        "# Display the reversed list\n",
        "print(\", \".join(map(str, reversed_list)))\n"
      ],
      "metadata": {
        "colab": {
          "base_uri": "https://localhost:8080/"
        },
        "id": "InsSXk7igl6Y",
        "outputId": "d2209b5c-c3b9-4518-d9ac-15de6e796222"
      },
      "execution_count": 11,
      "outputs": [
        {
          "output_type": "stream",
          "name": "stdout",
          "text": [
            "Enter numbers separated by commas: 10,40,30,70\n",
            "70, 30, 40, 10\n"
          ]
        }
      ]
    },
    {
      "cell_type": "markdown",
      "source": [
        "8. Write a Python program to print the following pattern.\n",
        "*\n",
        "**\n",
        "***\n",
        "****"
      ],
      "metadata": {
        "id": "WzXLESnvg3aH"
      }
    },
    {
      "cell_type": "code",
      "source": [
        "# Define the number of rows\n",
        "rows = 4\n",
        "\n",
        "# Print the pattern\n",
        "for i in range(1, rows):\n",
        "    print('*' * i)\n"
      ],
      "metadata": {
        "colab": {
          "base_uri": "https://localhost:8080/"
        },
        "id": "0Nqt82_9gwBu",
        "outputId": "1b28886a-acf2-4498-892d-4dc863f0314b"
      },
      "execution_count": 12,
      "outputs": [
        {
          "output_type": "stream",
          "name": "stdout",
          "text": [
            "*\n",
            "**\n",
            "***\n"
          ]
        }
      ]
    },
    {
      "cell_type": "markdown",
      "source": [
        "9. Write a Python program to find the maximum of three numbers\n",
        "Sample input: 34,12,7\n",
        "Sample output: 34"
      ],
      "metadata": {
        "id": "QhX3Qx5ahEgM"
      }
    },
    {
      "cell_type": "code",
      "source": [
        "# Input three numbers from the user\n",
        "a, b, c = map(int, input(\"Enter three numbers separated by commas: \").split(','))\n",
        "\n",
        "# Find the maximum number\n",
        "maximum = max(a, b, c)\n",
        "\n",
        "# Display the maximum number\n",
        "print(maximum)\n"
      ],
      "metadata": {
        "colab": {
          "base_uri": "https://localhost:8080/"
        },
        "id": "bPxzTwPgg_Nv",
        "outputId": "baf9c1b3-3830-41d7-a859-a4c6cdb968fa"
      },
      "execution_count": 13,
      "outputs": [
        {
          "output_type": "stream",
          "name": "stdout",
          "text": [
            "Enter three numbers separated by commas: 34,12,7\n",
            "34\n"
          ]
        }
      ]
    },
    {
      "cell_type": "markdown",
      "source": [
        "10. Write a Python program to construct the following pattern, using a\n",
        "nested for loop.\n",
        "*\n",
        "**\n",
        "***\n",
        "****\n",
        "*****\n",
        "****\n",
        "***\n",
        "**\n",
        "*"
      ],
      "metadata": {
        "id": "cvSX-6txhQxp"
      }
    },
    {
      "cell_type": "code",
      "source": [
        "# Define the maximum number of stars in the middle line\n",
        "n = 5\n",
        "\n",
        "# Print the upper part of the pattern\n",
        "for i in range(1, n):\n",
        "    print('*' * i)\n",
        "\n",
        "# Print the lower part of the pattern\n",
        "for i in range(n, 0, -1):\n",
        "    print('*' * i)\n"
      ],
      "metadata": {
        "colab": {
          "base_uri": "https://localhost:8080/"
        },
        "id": "CgRwnPzBhJro",
        "outputId": "93135f9f-5681-4f7e-8fee-9d3ec018023a"
      },
      "execution_count": 14,
      "outputs": [
        {
          "output_type": "stream",
          "name": "stdout",
          "text": [
            "*\n",
            "**\n",
            "***\n",
            "****\n",
            "*****\n",
            "****\n",
            "***\n",
            "**\n",
            "*\n"
          ]
        }
      ]
    },
    {
      "cell_type": "code",
      "source": [],
      "metadata": {
        "id": "jOXsR-6GhUJ7"
      },
      "execution_count": null,
      "outputs": []
    },
    {
      "cell_type": "markdown",
      "source": [
        "## Assignment 2"
      ],
      "metadata": {
        "id": "gj3AuS4Lhd9M"
      }
    },
    {
      "cell_type": "markdown",
      "source": [
        "1. Write a Python program to accept a string value from the user and display\n",
        "the count of each character in that string. Sample input: Enter a string\n",
        "value: assembly Sample output: a=1, s=2, e=1, m=1, b=1, l=1, y=1"
      ],
      "metadata": {
        "id": "Mr-JdQJhiCZ8"
      }
    },
    {
      "cell_type": "code",
      "source": [
        "# Accept a string from the user\n",
        "string_value = input(\"Enter a string value: \")\n",
        "\n",
        "# Create a dictionary to store the count of each character\n",
        "char_count = {}\n",
        "\n",
        "# Count the occurrences of each character\n",
        "for char in string_value:\n",
        "    if char in char_count:\n",
        "        char_count[char] += 1\n",
        "    else:\n",
        "        char_count[char] = 1\n",
        "\n",
        "# Display the count of each character\n",
        "output = ', '.join(f\"{char}={count}\" for char, count in char_count.items())\n",
        "print(output)\n"
      ],
      "metadata": {
        "colab": {
          "base_uri": "https://localhost:8080/"
        },
        "id": "rp_JhpNPht8B",
        "outputId": "ccf5686c-d249-47cc-c870-043a26572925"
      },
      "execution_count": 17,
      "outputs": [
        {
          "output_type": "stream",
          "name": "stdout",
          "text": [
            "Enter a string value: assembly\n",
            "a=1, s=2, e=1, m=1, b=1, l=1, y=1\n"
          ]
        }
      ]
    },
    {
      "cell_type": "markdown",
      "source": [
        "2. . Write a Python function to find the maximum of three numbers Sample\n",
        "input: 34,12,7 Sample output: 34"
      ],
      "metadata": {
        "id": "V5_Ubd_-iVLs"
      }
    },
    {
      "cell_type": "code",
      "source": [
        "def find_maximum(a, b, c):\n",
        "    return max(a, b, c)\n",
        "\n",
        "# Input three numbers from the user\n",
        "a, b, c = map(int, input(\"Enter three numbers separated by commas: \").split(','))\n",
        "\n",
        "# Find and print the maximum number\n",
        "print(find_maximum(a, b, c))\n"
      ],
      "metadata": {
        "colab": {
          "base_uri": "https://localhost:8080/"
        },
        "id": "gC_-daY1h913",
        "outputId": "b86697b5-cd8f-4baf-84ca-9334a74e1c79"
      },
      "execution_count": 18,
      "outputs": [
        {
          "output_type": "stream",
          "name": "stdout",
          "text": [
            "Enter three numbers separated by commas: 34,12,7\n",
            "34\n"
          ]
        }
      ]
    },
    {
      "cell_type": "markdown",
      "source": [
        "3. Write a Python function called exponent(base,exp) that returns an\n",
        "integer value of base raises to the power of exp. Sample input: Enter the\n",
        "base: 2 Enter the exponent: 3 Sample output: 8"
      ],
      "metadata": {
        "id": "5UfS92cuie5V"
      }
    },
    {
      "cell_type": "code",
      "source": [
        "def exponent(base, exp):\n",
        "    return base ** exp\n",
        "\n",
        "# Input base and exponent from the user\n",
        "base = int(input(\"Enter the base: \"))\n",
        "exp = int(input(\"Enter the exponent: \"))\n",
        "\n",
        "# Compute and print the result\n",
        "print(exponent(base, exp))\n"
      ],
      "metadata": {
        "colab": {
          "base_uri": "https://localhost:8080/"
        },
        "id": "7luT3SE6iXod",
        "outputId": "2ad00124-f178-4d19-b070-04fe63aa1cd0"
      },
      "execution_count": 19,
      "outputs": [
        {
          "output_type": "stream",
          "name": "stdout",
          "text": [
            "Enter the base: 2\n",
            "Enter the exponent: 3\n",
            "8\n"
          ]
        }
      ]
    },
    {
      "cell_type": "markdown",
      "source": [
        "4. Write a Python function that takes a positive integer and returns the sum\n",
        "of the cube of all the positive integers smaller than the specified number.\n",
        "Sample input: 4 Sample output: 36."
      ],
      "metadata": {
        "id": "lA6eGplsiljp"
      }
    },
    {
      "cell_type": "code",
      "source": [
        "def sum_of_cubes(n):\n",
        "    return sum(i**3 for i in range(n))\n",
        "\n",
        "# Input a positive integer from the user\n",
        "number = int(input(\"Enter a positive integer: \"))\n",
        "\n",
        "# Compute and print the result\n",
        "print(sum_of_cubes(number))\n"
      ],
      "metadata": {
        "colab": {
          "base_uri": "https://localhost:8080/"
        },
        "id": "E149tNVDiiA9",
        "outputId": "2214ac90-ab95-4dfd-ea95-c4255e52cc82"
      },
      "execution_count": 20,
      "outputs": [
        {
          "output_type": "stream",
          "name": "stdout",
          "text": [
            "Enter a positive integer: 5\n",
            "100\n"
          ]
        }
      ]
    },
    {
      "cell_type": "markdown",
      "source": [
        "5. Write a Python program which iterates from 1 to 10. For multiples of 2,\n",
        "print “Fizz” instead of the number and for the multiples of 5, print “Buzz”.\n",
        "For numbers which are multiples of both 2 and 5, print “FizzBuzz”.\n",
        "Sample input: numbers from 1 to 10 Sample output: 1 Fizz 3 Fizz Buzz\n",
        "Fizz 7 Fizz 9 FizzBuzz"
      ],
      "metadata": {
        "id": "G44g9bn7itH6"
      }
    },
    {
      "cell_type": "code",
      "source": [
        "for i in range(1, 11):\n",
        "    if i % 2 == 0 and i % 5 == 0:\n",
        "        print(\"FizzBuzz\")\n",
        "    elif i % 2 == 0:\n",
        "        print(\"Fizz\")\n",
        "    elif i % 5 == 0:\n",
        "        print(\"Buzz\")\n",
        "    else:\n",
        "        print(i)\n"
      ],
      "metadata": {
        "colab": {
          "base_uri": "https://localhost:8080/"
        },
        "id": "Lwfh9YlQip6w",
        "outputId": "8ac31d5e-0845-42b6-993a-fe8c96480d40"
      },
      "execution_count": 21,
      "outputs": [
        {
          "output_type": "stream",
          "name": "stdout",
          "text": [
            "1\n",
            "Fizz\n",
            "3\n",
            "Fizz\n",
            "Buzz\n",
            "Fizz\n",
            "7\n",
            "Fizz\n",
            "9\n",
            "FizzBuzz\n"
          ]
        }
      ]
    },
    {
      "cell_type": "markdown",
      "source": [
        "6. Write a Python program to find the most frequent item in a list of\n",
        "numbers. Sample input: 2, 3, 4, 2, 5, 2 Sample output: 2"
      ],
      "metadata": {
        "id": "shF02W96i2aL"
      }
    },
    {
      "cell_type": "code",
      "source": [
        "from collections import Counter\n",
        "\n",
        "# Input list of numbers from the user\n",
        "numbers = list(map(int, input(\"Enter numbers separated by commas: \").split(',')))\n",
        "\n",
        "# Find the most frequent item\n",
        "counter = Counter(numbers)\n",
        "most_frequent = counter.most_common(1)[0][0]\n",
        "\n",
        "# Display the most frequent item\n",
        "print(most_frequent)\n"
      ],
      "metadata": {
        "colab": {
          "base_uri": "https://localhost:8080/"
        },
        "id": "Xuh9gC_DiyP6",
        "outputId": "4ad48891-9735-4392-8d47-849e8d27c4c5"
      },
      "execution_count": 23,
      "outputs": [
        {
          "output_type": "stream",
          "name": "stdout",
          "text": [
            "Enter numbers separated by commas: 2,3,4,2,5,2\n",
            "2\n"
          ]
        }
      ]
    },
    {
      "cell_type": "markdown",
      "source": [
        "7. Write a Python program to find the sum of squares of the numbers in a\n",
        "list. Sample input: 2,1,3,1 Sample output: 15"
      ],
      "metadata": {
        "id": "GgtN38f3jIxs"
      }
    },
    {
      "cell_type": "code",
      "source": [
        "# Input list of numbers from the user\n",
        "numbers = list(map(int, input(\"Enter numbers separated by commas: \").split(',')))\n",
        "\n",
        "# Compute the sum of squares\n",
        "sum_of_squares = sum(num ** 2 for num in numbers)\n",
        "\n",
        "# Display the result\n",
        "print(sum_of_squares)\n"
      ],
      "metadata": {
        "colab": {
          "base_uri": "https://localhost:8080/"
        },
        "id": "QP_9UPn2i9Qr",
        "outputId": "f7f24db2-ada5-48b9-9b05-1bbd1990e887"
      },
      "execution_count": 24,
      "outputs": [
        {
          "output_type": "stream",
          "name": "stdout",
          "text": [
            "Enter numbers separated by commas: 2,1,3,1\n",
            "15\n"
          ]
        }
      ]
    },
    {
      "cell_type": "markdown",
      "source": [
        "8. Write a Python program using for loop that will iterate from 1 to 15. For\n",
        "each iteration, check if the current number is odd or even, and display the\n",
        "message to the screen as odd or even. Sample input: 1….15 Sample\n",
        "output: 1-odd 2-even …. 15-odd"
      ],
      "metadata": {
        "id": "B-0d87GQjTMD"
      }
    },
    {
      "cell_type": "code",
      "source": [
        "for i in range(1, 16):\n",
        "    if i % 2 == 0:\n",
        "        print(f\"{i}-even\")\n",
        "    else:\n",
        "        print(f\"{i}-odd\")\n"
      ],
      "metadata": {
        "colab": {
          "base_uri": "https://localhost:8080/"
        },
        "id": "WR9rjVIOjMQc",
        "outputId": "2c8d5bc9-fea0-4a2c-95a8-20df3ce7fc8f"
      },
      "execution_count": 25,
      "outputs": [
        {
          "output_type": "stream",
          "name": "stdout",
          "text": [
            "1-odd\n",
            "2-even\n",
            "3-odd\n",
            "4-even\n",
            "5-odd\n",
            "6-even\n",
            "7-odd\n",
            "8-even\n",
            "9-odd\n",
            "10-even\n",
            "11-odd\n",
            "12-even\n",
            "13-odd\n",
            "14-even\n",
            "15-odd\n"
          ]
        }
      ]
    },
    {
      "cell_type": "markdown",
      "source": [
        "9. Write a Python program to convert temperatures to and from Celsius\n",
        "Fahrenheit. [Formula: c/5=f-32/9 where c=temperature in Celsius and f=\n",
        "temperature in Fahrenheit.] Sample input: Temperature in Fahrenheit\n",
        "=41 Sample output: Temperature in Celsius =5\n"
      ],
      "metadata": {
        "id": "Qg8dk22kjbPB"
      }
    },
    {
      "cell_type": "code",
      "source": [
        "def fahrenheit_to_celsius(f):\n",
        "    return (f - 32) * 5 / 9\n",
        "\n",
        "# Input temperature in Fahrenheit from the user\n",
        "fahrenheit = float(input(\"Temperature in Fahrenheit = \"))\n",
        "\n",
        "# Convert to Celsius and print the result\n",
        "celsius = fahrenheit_to_celsius(fahrenheit)\n",
        "print(f\"Temperature in Celsius = {celsius:.1f}\")\n"
      ],
      "metadata": {
        "colab": {
          "base_uri": "https://localhost:8080/"
        },
        "id": "WYe21TIajX0q",
        "outputId": "550330f8-74a8-4317-85bd-a5ff4023189a"
      },
      "execution_count": 26,
      "outputs": [
        {
          "output_type": "stream",
          "name": "stdout",
          "text": [
            "Temperature in Fahrenheit = 23\n",
            "Temperature in Celsius = -5.0\n"
          ]
        }
      ]
    },
    {
      "cell_type": "markdown",
      "source": [
        "10. Write a Python function to calculate the factorial of a number (a\n",
        "nonnegative integer). The function accepts the number as an argument.\n",
        "Sample input: 3 Sample output: 6"
      ],
      "metadata": {
        "id": "sMZFX6ysjkK3"
      }
    },
    {
      "cell_type": "code",
      "source": [
        "def factorial(n):\n",
        "    if n == 0:\n",
        "        return 1\n",
        "    else:\n",
        "        return n * factorial(n - 1)\n",
        "\n",
        "# Input a non-negative integer from the user\n",
        "number = int(input(\"Enter a non-negative integer: \"))\n",
        "\n",
        "# Compute and print the factorial\n",
        "print(factorial(number))\n"
      ],
      "metadata": {
        "colab": {
          "base_uri": "https://localhost:8080/"
        },
        "id": "feoegrjLjgED",
        "outputId": "bece6179-43ad-496a-dcad-abfe00fa8cae"
      },
      "execution_count": 27,
      "outputs": [
        {
          "output_type": "stream",
          "name": "stdout",
          "text": [
            "Enter a non-negative integer: 3\n",
            "6\n"
          ]
        }
      ]
    },
    {
      "cell_type": "code",
      "source": [],
      "metadata": {
        "id": "Wy8PnTPcjnxC"
      },
      "execution_count": null,
      "outputs": []
    }
  ]
}