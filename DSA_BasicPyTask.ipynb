{
  "nbformat": 4,
  "nbformat_minor": 0,
  "metadata": {
    "colab": {
      "provenance": [],
      "authorship_tag": "ABX9TyPwgL+hZXyM/BuoMBHsJaC0",
      "include_colab_link": true
    },
    "kernelspec": {
      "name": "python3",
      "display_name": "Python 3"
    },
    "language_info": {
      "name": "python"
    }
  },
  "cells": [
    {
      "cell_type": "markdown",
      "metadata": {
        "id": "view-in-github",
        "colab_type": "text"
      },
      "source": [
        "<a href=\"https://colab.research.google.com/github/hiba0903/DSA-Daily-Tasks/blob/main/DSA_BasicPyTask.ipynb\" target=\"_parent\"><img src=\"https://colab.research.google.com/assets/colab-badge.svg\" alt=\"Open In Colab\"/></a>"
      ]
    },
    {
      "cell_type": "markdown",
      "source": [
        "1. Given the string \"Hello, World!\", extract and print the\n",
        "substring \"Hello\"."
      ],
      "metadata": {
        "id": "uMTXMFsUloXK"
      }
    },
    {
      "cell_type": "code",
      "execution_count": 1,
      "metadata": {
        "colab": {
          "base_uri": "https://localhost:8080/"
        },
        "id": "dd9tSu88lgqM",
        "outputId": "d496a9ed-481c-4ed1-f7d2-7e9b3b2d3a7d"
      },
      "outputs": [
        {
          "output_type": "stream",
          "name": "stdout",
          "text": [
            "Hello\n"
          ]
        }
      ],
      "source": [
        "string = \"Hello, World!\"\n",
        "substring = string[:5]  # Extracting \"Hello\"\n",
        "print(substring)\n"
      ]
    },
    {
      "cell_type": "markdown",
      "source": [
        "2. Given the string \"Python is fun\", extract and print the\n",
        "substring \"is\"."
      ],
      "metadata": {
        "id": "UUdptVhnlv-X"
      }
    },
    {
      "cell_type": "code",
      "source": [
        "string = \"Python is fun\"\n",
        "substring = string[7:9]  # Extracting \"is\"\n",
        "print(substring)\n"
      ],
      "metadata": {
        "colab": {
          "base_uri": "https://localhost:8080/"
        },
        "id": "cEujqSeylsOy",
        "outputId": "0cc52ecf-7704-4b4d-98d5-baf50da52c21"
      },
      "execution_count": 2,
      "outputs": [
        {
          "output_type": "stream",
          "name": "stdout",
          "text": [
            "is\n"
          ]
        }
      ]
    },
    {
      "cell_type": "markdown",
      "source": [
        "3. Given the string \"Programming\", extract and print the\n",
        "substring \"gram\" using slicing indices."
      ],
      "metadata": {
        "id": "93pkIm2Yl3W5"
      }
    },
    {
      "cell_type": "code",
      "source": [
        "string = \"Programming\"\n",
        "substring = string[3:7]  # Extracting \"gram\"\n",
        "print(substring)\n"
      ],
      "metadata": {
        "colab": {
          "base_uri": "https://localhost:8080/"
        },
        "id": "E9JybFJOlzq7",
        "outputId": "937dabc3-3b6f-4845-f212-6e9031381179"
      },
      "execution_count": 3,
      "outputs": [
        {
          "output_type": "stream",
          "name": "stdout",
          "text": [
            "gram\n"
          ]
        }
      ]
    },
    {
      "cell_type": "markdown",
      "source": [
        "4. Given the string \"abcdefgh\", use slicing to print only the\n",
        "characters at even indices."
      ],
      "metadata": {
        "id": "ai3V7bVyl8lz"
      }
    },
    {
      "cell_type": "code",
      "source": [
        "string = \"abcdefgh\"\n",
        "even_indices_chars = string[::2]  # Characters at even indices\n",
        "print(even_indices_chars)\n"
      ],
      "metadata": {
        "colab": {
          "base_uri": "https://localhost:8080/"
        },
        "id": "VJ6M52hxl6Gu",
        "outputId": "6b25db26-eb27-46ef-9858-4effcd1f63da"
      },
      "execution_count": 4,
      "outputs": [
        {
          "output_type": "stream",
          "name": "stdout",
          "text": [
            "aceg\n"
          ]
        }
      ]
    },
    {
      "cell_type": "markdown",
      "source": [
        "5. Given the string \"abcdefg\", use negative indices to extract\n",
        "and print the substring \"efg\"."
      ],
      "metadata": {
        "id": "SnJMARdimDVM"
      }
    },
    {
      "cell_type": "code",
      "source": [
        "string = \"abcdefg\"\n",
        "substring = string[-3:]  # Extracting \"efg\" using negative indices\n",
        "print(substring)\n"
      ],
      "metadata": {
        "colab": {
          "base_uri": "https://localhost:8080/"
        },
        "id": "UA2oSJ_dl_OK",
        "outputId": "321918eb-af6c-47a1-b35d-bd2dd563cc68"
      },
      "execution_count": 5,
      "outputs": [
        {
          "output_type": "stream",
          "name": "stdout",
          "text": [
            "efg\n"
          ]
        }
      ]
    },
    {
      "cell_type": "markdown",
      "source": [
        "6. Given the string \"Data Science\", use negative indices to\n",
        "extract and print the last three characters."
      ],
      "metadata": {
        "id": "v1IbyMismMfh"
      }
    },
    {
      "cell_type": "code",
      "source": [
        "string = \"Data Science\"\n",
        "last_three_chars = string[-3:]  # Extracting last three characters\n",
        "print(last_three_chars)\n"
      ],
      "metadata": {
        "colab": {
          "base_uri": "https://localhost:8080/"
        },
        "id": "kNaoWjaomJ99",
        "outputId": "9b95d005-3fae-48d7-ba58-11b7391eff83"
      },
      "execution_count": 6,
      "outputs": [
        {
          "output_type": "stream",
          "name": "stdout",
          "text": [
            "nce\n"
          ]
        }
      ]
    },
    {
      "cell_type": "markdown",
      "source": [
        "7. Given the string \"abcdefghij\", use slicing with a step to\n",
        "print every second character."
      ],
      "metadata": {
        "id": "GoKp4eCImUHA"
      }
    },
    {
      "cell_type": "code",
      "source": [
        "string = \"abcdefghij\"\n",
        "every_second_char = string[::2]  # Every second character\n",
        "print(every_second_char)\n"
      ],
      "metadata": {
        "colab": {
          "base_uri": "https://localhost:8080/"
        },
        "id": "tmCW7cFOmQq-",
        "outputId": "d9b2304b-9572-4735-9bf5-1ecf8e6aa18a"
      },
      "execution_count": 7,
      "outputs": [
        {
          "output_type": "stream",
          "name": "stdout",
          "text": [
            "acegi\n"
          ]
        }
      ]
    },
    {
      "cell_type": "markdown",
      "source": [
        "8. Given the string \"1234567890\", use slicing with a step to\n",
        "print the odd digits."
      ],
      "metadata": {
        "id": "FuyVyP5kmaVP"
      }
    },
    {
      "cell_type": "code",
      "source": [
        "string = \"1234567890\"\n",
        "odd_digits = string[1::2]  # Odd digits\n",
        "print(odd_digits)\n"
      ],
      "metadata": {
        "colab": {
          "base_uri": "https://localhost:8080/"
        },
        "id": "11aDQw-mmW16",
        "outputId": "5d4aead7-f03a-4f3c-a97f-cfaf34fb2593"
      },
      "execution_count": 9,
      "outputs": [
        {
          "output_type": "stream",
          "name": "stdout",
          "text": [
            "24680\n"
          ]
        }
      ]
    },
    {
      "cell_type": "markdown",
      "source": [
        "9. Given the string \"Hello\", use slicing to print the string in\n",
        "reverse order."
      ],
      "metadata": {
        "id": "10zi16p4mgh1"
      }
    },
    {
      "cell_type": "code",
      "source": [
        "string = \"Hello\"\n",
        "reverse_string = string[::-1]  # Reversing the string\n",
        "print(reverse_string)\n"
      ],
      "metadata": {
        "colab": {
          "base_uri": "https://localhost:8080/"
        },
        "id": "7rQU5DgMmZMq",
        "outputId": "2d8fba43-ba51-40e6-a64f-943b6caf5c8e"
      },
      "execution_count": 10,
      "outputs": [
        {
          "output_type": "stream",
          "name": "stdout",
          "text": [
            "olleH\n"
          ]
        }
      ]
    },
    {
      "cell_type": "markdown",
      "source": [
        "10. Given the string \"abcdefghijk\", extract and print the\n",
        "substring \"acegik\" using slicing."
      ],
      "metadata": {
        "id": "3nuHFUnPmonN"
      }
    },
    {
      "cell_type": "code",
      "source": [
        "string = \"abcdefghijk\"\n",
        "substring = string[::2]  # Extracting \"acegik\"\n",
        "print(substring)\n"
      ],
      "metadata": {
        "colab": {
          "base_uri": "https://localhost:8080/"
        },
        "id": "G7FrzrGWmkC9",
        "outputId": "46575c86-c1ce-4675-b7e6-3fbb36ff34f2"
      },
      "execution_count": 11,
      "outputs": [
        {
          "output_type": "stream",
          "name": "stdout",
          "text": [
            "acegik\n"
          ]
        }
      ]
    },
    {
      "cell_type": "markdown",
      "source": [
        "11. Write a program to find sum of all elements in a list of\n",
        "integers"
      ],
      "metadata": {
        "id": "HbmcRKZRm23g"
      }
    },
    {
      "cell_type": "code",
      "source": [
        "numbers = [1, 2, 3, 4, 5]\n",
        "total_sum = sum(numbers)  # Sum of all elements\n",
        "print(\"Sum of all elements:\", total_sum)\n"
      ],
      "metadata": {
        "colab": {
          "base_uri": "https://localhost:8080/"
        },
        "id": "yBGUjqPDmqYn",
        "outputId": "2526c020-163f-4d1d-e3fd-a3d47953c7d4"
      },
      "execution_count": 12,
      "outputs": [
        {
          "output_type": "stream",
          "name": "stdout",
          "text": [
            "Sum of all elements: 15\n"
          ]
        }
      ]
    },
    {
      "cell_type": "markdown",
      "source": [
        "12. Input a sentence as a string.\n",
        "a) Print its length\n",
        "b) Print the first half of string"
      ],
      "metadata": {
        "id": "kmTj6VEhnF81"
      }
    },
    {
      "cell_type": "code",
      "source": [
        "sentence = input(\"Enter a sentence: \")\n",
        "\n",
        "# Print the length of the sentence\n",
        "print(\"Length of the sentence:\", len(sentence))\n",
        "\n",
        "# Print the first half of the sentence\n",
        "half_length = len(sentence) // 2\n",
        "print(\"First half of the sentence:\", sentence[:half_length])\n"
      ],
      "metadata": {
        "colab": {
          "base_uri": "https://localhost:8080/"
        },
        "id": "CvvtiERgm5me",
        "outputId": "46ae582b-c00a-4fe5-db75-1e47f63ea42c"
      },
      "execution_count": 13,
      "outputs": [
        {
          "output_type": "stream",
          "name": "stdout",
          "text": [
            "Enter a sentence: hello world\n",
            "Length of the sentence: 11\n",
            "First half of the sentence: hello\n"
          ]
        }
      ]
    },
    {
      "cell_type": "markdown",
      "source": [
        "13. Write a program to enter a tuple of integers as\n",
        "(78,45,32,19,82,77,40,39). Change the third value in the tuple to\n",
        "100"
      ],
      "metadata": {
        "id": "Vc4EQfl3nNq_"
      }
    },
    {
      "cell_type": "code",
      "source": [
        "# Tuples are immutable, so we need to convert to a list, modify, and then convert back to a tuple\n",
        "tupleA = (78, 45, 32, 19, 82, 77, 40, 39)\n",
        "listA = list(tupleA)\n",
        "listA[2] = 100\n",
        "tupleA = tuple(listA)\n",
        "print(\"Modified tuple:\", tupleA)\n"
      ],
      "metadata": {
        "colab": {
          "base_uri": "https://localhost:8080/"
        },
        "id": "N8Hht49XnIuU",
        "outputId": "c60e3764-f6e1-44db-a38b-fd657247ebde"
      },
      "execution_count": 14,
      "outputs": [
        {
          "output_type": "stream",
          "name": "stdout",
          "text": [
            "Modified tuple: (78, 45, 100, 19, 82, 77, 40, 39)\n"
          ]
        }
      ]
    },
    {
      "cell_type": "markdown",
      "source": [
        "14. Consider a list\n",
        "listA=[19,32,10,55,31,32,94,29,10,65,77,40,40]\n",
        "(a) Delete the first occurrence of 32\n",
        "(b) Delete all occurrences of 40\n",
        "(c) Delete the value at index=5\n",
        "(d) Modify the value at index=9 as 300\n",
        "(e) Add 200 at index=2\n",
        "(f) Print the final list with its length, maximum value\n",
        "and sum of all elements"
      ],
      "metadata": {
        "id": "76P1jGPUnSgj"
      }
    },
    {
      "cell_type": "code",
      "source": [
        "listA = [19, 32, 10, 55, 31, 32, 94, 29, 10, 65, 77, 40, 40]\n",
        "\n",
        "# (a) Delete the first occurrence of 32\n",
        "listA.remove(32)\n",
        "\n",
        "# (b) Delete all occurrences of 40\n",
        "listA = [x for x in listA if x != 40]\n",
        "\n",
        "# (c) Delete the value at index 5\n",
        "del listA[5]\n",
        "\n",
        "# (e) Add 200 at index 2\n",
        "listA.insert(2, 200)\n",
        "\n",
        "# (d) Modify the value at index 9 to 300\n",
        "listA[9] = 300\n",
        "\n",
        "\n",
        "\n",
        "# (f) Print the final list with its length, maximum value, and sum\n",
        "print(\"Final list:\", listA)\n",
        "print(\"Length of the list:\", len(listA))\n",
        "print(\"Maximum value in the list:\", max(listA))\n",
        "print(\"Sum of all elements in the list:\", sum(listA))\n"
      ],
      "metadata": {
        "colab": {
          "base_uri": "https://localhost:8080/"
        },
        "id": "YpTWaOOnnP0L",
        "outputId": "37e82d9e-117e-477f-b438-e558aae7206e"
      },
      "execution_count": 17,
      "outputs": [
        {
          "output_type": "stream",
          "name": "stdout",
          "text": [
            "Final list: [19, 10, 200, 55, 31, 32, 29, 10, 65, 300]\n",
            "Length of the list: 10\n",
            "Maximum value in the list: 300\n",
            "Sum of all elements in the list: 751\n"
          ]
        }
      ]
    },
    {
      "cell_type": "markdown",
      "source": [
        "15. Consider a string ”The day has been long”.\n",
        "(a) Delete the value at index =4\n",
        "(b) Print the string 4 times in a single line with space\n",
        "between each repetition\n",
        "(c) Print the string 3 times in a new line each time\n",
        "(d) Modify the string at index 7 as ’A’\n",
        "(e) Print the string from index 4 to 15\n",
        "(f) Print the final string with its length"
      ],
      "metadata": {
        "id": "oQmoqH8Tnr5q"
      }
    },
    {
      "cell_type": "code",
      "source": [
        "string = \"The day has been long\"\n",
        "\n",
        "# (a) Delete the value at index = 4\n",
        "string = string[:4] + string[5:]\n",
        "\n",
        "# (b) Print the string 4 times in a single line with space\n",
        "print((string + \" \") * 4)\n",
        "\n",
        "# (c) Print the string 3 times, each on a new line\n",
        "print((string + \"\\n\") * 3)\n",
        "\n",
        "# (d) Modify the string at index 7 as 'A'\n",
        "string = string[:7] + 'A' + string[8:]\n",
        "\n",
        "# (e) Print the string from index 4 to 15\n",
        "print(string[4:16])\n",
        "\n",
        "# (f) Print the final string with its length\n",
        "print(\"Final string:\", string)\n",
        "print(\"Length of the string:\", len(string))\n"
      ],
      "metadata": {
        "colab": {
          "base_uri": "https://localhost:8080/"
        },
        "id": "2BpsVAionWmL",
        "outputId": "3d12248a-e730-4428-f93f-771c273dc034"
      },
      "execution_count": 18,
      "outputs": [
        {
          "output_type": "stream",
          "name": "stdout",
          "text": [
            "The ay has been long The ay has been long The ay has been long The ay has been long \n",
            "The ay has been long\n",
            "The ay has been long\n",
            "The ay has been long\n",
            "\n",
            "ay Aas been \n",
            "Final string: The ay Aas been long\n",
            "Length of the string: 20\n"
          ]
        }
      ]
    },
    {
      "cell_type": "code",
      "source": [],
      "metadata": {
        "id": "Bk9MhzlwnuwR"
      },
      "execution_count": null,
      "outputs": []
    }
  ]
}