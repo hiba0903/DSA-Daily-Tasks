{
  "nbformat": 4,
  "nbformat_minor": 0,
  "metadata": {
    "colab": {
      "provenance": []
    },
    "kernelspec": {
      "name": "python3",
      "display_name": "Python 3"
    },
    "language_info": {
      "name": "python"
    }
  },
  "cells": [
    {
      "cell_type": "markdown",
      "source": [
        "#**DAY 1**"
      ],
      "metadata": {
        "id": "92-ZB0TpRzEb"
      }
    },
    {
      "cell_type": "code",
      "execution_count": null,
      "metadata": {
        "colab": {
          "base_uri": "https://localhost:8080/"
        },
        "id": "5gCepy6VRtmD",
        "outputId": "6ef7d008-f62b-47e3-81e1-c320dc503917"
      },
      "outputs": [
        {
          "output_type": "stream",
          "name": "stdout",
          "text": [
            "Hello World\n"
          ]
        }
      ],
      "source": [
        "print('Hello World')"
      ]
    },
    {
      "cell_type": "code",
      "source": [
        "fred=100\n",
        "John=fred\n",
        "print(John)"
      ],
      "metadata": {
        "colab": {
          "base_uri": "https://localhost:8080/"
        },
        "id": "-JyGdEo_RxuL",
        "outputId": "ffc71506-03c1-4f7d-e891-59b88c03acb8"
      },
      "execution_count": null,
      "outputs": [
        {
          "output_type": "stream",
          "name": "stdout",
          "text": [
            "100\n"
          ]
        }
      ]
    },
    {
      "cell_type": "code",
      "source": [
        "name = input()"
      ],
      "metadata": {
        "colab": {
          "base_uri": "https://localhost:8080/"
        },
        "id": "q-vqB3tKSdfT",
        "outputId": "e846427f-093e-429f-fe93-9748613593c6"
      },
      "execution_count": null,
      "outputs": [
        {
          "name": "stdout",
          "output_type": "stream",
          "text": [
            "hiba\n"
          ]
        }
      ]
    },
    {
      "cell_type": "code",
      "source": [
        "print(name)"
      ],
      "metadata": {
        "colab": {
          "base_uri": "https://localhost:8080/"
        },
        "id": "qvaJtoJ_UaP7",
        "outputId": "6be4b0b2-d14c-4f41-ce86-59aee7cc7284"
      },
      "execution_count": null,
      "outputs": [
        {
          "output_type": "stream",
          "name": "stdout",
          "text": [
            "hiba\n"
          ]
        }
      ]
    },
    {
      "cell_type": "markdown",
      "source": [
        "**Taking input and printing output**"
      ],
      "metadata": {
        "id": "SxilQgjVSgkF"
      }
    },
    {
      "cell_type": "code",
      "source": [
        "name=input(\"Enter name \")\n",
        "print(name )\n",
        "print(int(input(\"enter your age \")))\n"
      ],
      "metadata": {
        "colab": {
          "base_uri": "https://localhost:8080/"
        },
        "id": "0fzhlMJtUhkz",
        "outputId": "193230f5-0d83-4697-f850-278c182a6d92"
      },
      "execution_count": null,
      "outputs": [
        {
          "output_type": "stream",
          "name": "stdout",
          "text": [
            "Enter name Hiba\n",
            "Hiba\n",
            "enter your age 23\n",
            "23\n"
          ]
        }
      ]
    },
    {
      "cell_type": "code",
      "source": [
        " print(type(name))"
      ],
      "metadata": {
        "colab": {
          "base_uri": "https://localhost:8080/"
        },
        "id": "mzxxyjPEUvRz",
        "outputId": "e3ceb6d5-4ab3-4b9e-e1f2-59c3b2e137fb"
      },
      "execution_count": null,
      "outputs": [
        {
          "output_type": "stream",
          "name": "stdout",
          "text": [
            "<class 'str'>\n"
          ]
        }
      ]
    },
    {
      "cell_type": "code",
      "source": [],
      "metadata": {
        "id": "a_ruN5FDUrqV"
      },
      "execution_count": null,
      "outputs": []
    },
    {
      "cell_type": "markdown",
      "source": [
        "#**DAY 2**"
      ],
      "metadata": {
        "id": "EBMfrok2UqbT"
      }
    },
    {
      "cell_type": "code",
      "source": [
        "x=10\n",
        "y=10.55\n",
        "z=1+2j\n",
        "print(type(x))\n",
        "print(type(y))\n",
        "print(type(z))"
      ],
      "metadata": {
        "id": "EKhWFAbSWB07",
        "colab": {
          "base_uri": "https://localhost:8080/"
        },
        "outputId": "9c52c2f8-9042-4033-80eb-b9135e9e93ae"
      },
      "execution_count": null,
      "outputs": [
        {
          "output_type": "stream",
          "name": "stdout",
          "text": [
            "<class 'int'>\n",
            "<class 'float'>\n",
            "<class 'complex'>\n"
          ]
        }
      ]
    },
    {
      "cell_type": "markdown",
      "source": [
        "**Making complex number using function**"
      ],
      "metadata": {
        "id": "ZS5F4h6gVW8k"
      }
    },
    {
      "cell_type": "code",
      "source": [
        "x=complex(1,2)\n",
        "x\n"
      ],
      "metadata": {
        "colab": {
          "base_uri": "https://localhost:8080/"
        },
        "id": "RedKSemPT2k8",
        "outputId": "e47b2798-ee48-46b0-d051-0677974502aa"
      },
      "execution_count": null,
      "outputs": [
        {
          "output_type": "execute_result",
          "data": {
            "text/plain": [
              "(1+2j)"
            ]
          },
          "metadata": {},
          "execution_count": 7
        }
      ]
    },
    {
      "cell_type": "code",
      "source": [
        "var1=float(input(\"Enter your number \"))\n",
        "var2=23.133\n",
        "\n",
        "print(var1)\n",
        "print(var2)\n"
      ],
      "metadata": {
        "colab": {
          "base_uri": "https://localhost:8080/"
        },
        "id": "VBvlZgjPVIXM",
        "outputId": "0a86644a-bcb5-458a-b977-c5a4cfbf3e25"
      },
      "execution_count": null,
      "outputs": [
        {
          "output_type": "stream",
          "name": "stdout",
          "text": [
            "Enter your number 5\n",
            "5.0\n",
            "23.133\n"
          ]
        }
      ]
    },
    {
      "cell_type": "markdown",
      "source": [
        "**Strings**"
      ],
      "metadata": {
        "id": "6wX7F80pWtwM"
      }
    },
    {
      "cell_type": "code",
      "source": [
        "name=\"Ally the Alien\"\n",
        "\n",
        "name"
      ],
      "metadata": {
        "colab": {
          "base_uri": "https://localhost:8080/",
          "height": 35
        },
        "id": "hYS-Lj_LWMe8",
        "outputId": "07ae6cf3-4626-443d-abe5-432b9e2cfca6"
      },
      "execution_count": null,
      "outputs": [
        {
          "output_type": "execute_result",
          "data": {
            "text/plain": [
              "'Ally the Alien'"
            ],
            "application/vnd.google.colaboratory.intrinsic+json": {
              "type": "string"
            }
          },
          "metadata": {},
          "execution_count": 13
        }
      ]
    },
    {
      "cell_type": "code",
      "source": [
        "Greeting=\"Welcome to Earth\"\n",
        "Message=name+\", \"+Greeting\n",
        "Message"
      ],
      "metadata": {
        "colab": {
          "base_uri": "https://localhost:8080/",
          "height": 35
        },
        "id": "k4gq1p12Wizj",
        "outputId": "493c0e81-923c-430d-e650-ee0f2916fa0c"
      },
      "execution_count": null,
      "outputs": [
        {
          "output_type": "execute_result",
          "data": {
            "text/plain": [
              "'Ally the Alien, Welcome to Earth'"
            ],
            "application/vnd.google.colaboratory.intrinsic+json": {
              "type": "string"
            }
          },
          "metadata": {},
          "execution_count": 16
        }
      ]
    },
    {
      "cell_type": "code",
      "source": [
        "print(\"python\"*3)\n",
        "\n",
        "print(\"python\\n\"*3)"
      ],
      "metadata": {
        "colab": {
          "base_uri": "https://localhost:8080/"
        },
        "id": "mGnV6mjtXBc7",
        "outputId": "1415dd0e-13aa-4608-a0aa-57bb3411c4fa"
      },
      "execution_count": null,
      "outputs": [
        {
          "output_type": "stream",
          "name": "stdout",
          "text": [
            "pythonpythonpython\n",
            "python\n",
            "python\n",
            "python\n",
            "\n"
          ]
        }
      ]
    },
    {
      "cell_type": "code",
      "source": [
        "fname=input(\"What is your forename? \")\n",
        "print(\"Hello\"+\" \"+fname)"
      ],
      "metadata": {
        "colab": {
          "base_uri": "https://localhost:8080/"
        },
        "id": "K-tmMVTHYJtL",
        "outputId": "cf67488a-2710-4032-84b7-6862b7062ea0"
      },
      "execution_count": null,
      "outputs": [
        {
          "output_type": "stream",
          "name": "stdout",
          "text": [
            "What is your forename? John\n",
            "Hello John\n"
          ]
        }
      ]
    },
    {
      "cell_type": "code",
      "source": [
        "s=\"python\"\n",
        "print(s[0])\n",
        "print(s[-3])\n",
        "print(s[1])\n",
        "s[-len(s)]"
      ],
      "metadata": {
        "colab": {
          "base_uri": "https://localhost:8080/",
          "height": 87
        },
        "id": "QeFG0EZWYl3t",
        "outputId": "50eaafa3-5ad0-42f8-ce9e-5bf6a801cb13"
      },
      "execution_count": null,
      "outputs": [
        {
          "output_type": "stream",
          "name": "stdout",
          "text": [
            "p\n",
            "h\n",
            "y\n"
          ]
        },
        {
          "output_type": "execute_result",
          "data": {
            "text/plain": [
              "'p'"
            ],
            "application/vnd.google.colaboratory.intrinsic+json": {
              "type": "string"
            }
          },
          "metadata": {},
          "execution_count": 28
        }
      ]
    },
    {
      "cell_type": "code",
      "source": [
        "print(s[0:6:2])\n",
        "print(s[-5:-2])\n",
        "print(s[0:-2])\n",
        "print(s[0:3])"
      ],
      "metadata": {
        "colab": {
          "base_uri": "https://localhost:8080/"
        },
        "id": "cHreQ04ZZUWt",
        "outputId": "8ac6631f-3184-4683-97be-04af24343748"
      },
      "execution_count": null,
      "outputs": [
        {
          "output_type": "stream",
          "name": "stdout",
          "text": [
            "pto\n",
            "yth\n",
            "pyth\n",
            "pyt\n"
          ]
        }
      ]
    },
    {
      "cell_type": "code",
      "source": [
        "print(s.swapcase())\n",
        "print(s.capitalize())\n",
        "print(s.upper())"
      ],
      "metadata": {
        "colab": {
          "base_uri": "https://localhost:8080/"
        },
        "id": "NyenXRfmZ85V",
        "outputId": "5477640a-8f01-4090-c641-a983fa90ad23"
      },
      "execution_count": null,
      "outputs": [
        {
          "output_type": "stream",
          "name": "stdout",
          "text": [
            "PYTHON\n",
            "Python\n",
            "PYTHON\n"
          ]
        }
      ]
    },
    {
      "cell_type": "markdown",
      "source": [
        "**Boolean**"
      ],
      "metadata": {
        "id": "PswDXdsFcCm1"
      }
    },
    {
      "cell_type": "code",
      "source": [
        "x= True\n",
        "y= False\n",
        "print(type(x))\n"
      ],
      "metadata": {
        "colab": {
          "base_uri": "https://localhost:8080/"
        },
        "id": "Es8svHcFcFMr",
        "outputId": "cb0e4a92-41af-44e5-9bba-1620301279c7"
      },
      "execution_count": null,
      "outputs": [
        {
          "output_type": "stream",
          "name": "stdout",
          "text": [
            "<class 'bool'>\n"
          ]
        }
      ]
    },
    {
      "cell_type": "code",
      "source": [
        "#Working time\n",
        "\n",
        "float(\"4.5\")\n",
        "int(\"25\")\n",
        "int(6.25)\n",
        "float(6)\n",
        "str(True)\n",
        "bool(\"Hwllom workd\")\n",
        "bool(0)"
      ],
      "metadata": {
        "colab": {
          "base_uri": "https://localhost:8080/"
        },
        "id": "Ex97drlBceJL",
        "outputId": "688bc85b-c073-4a6b-dc38-9382d5547a35"
      },
      "execution_count": null,
      "outputs": [
        {
          "output_type": "execute_result",
          "data": {
            "text/plain": [
              "False"
            ]
          },
          "metadata": {},
          "execution_count": 45
        }
      ]
    },
    {
      "cell_type": "markdown",
      "source": [
        "**Mathematical Operations**"
      ],
      "metadata": {
        "id": "wsbvxvGKfue2"
      }
    },
    {
      "cell_type": "code",
      "source": [
        "#Addition\n",
        "n=2+3\n",
        "print(n)\n",
        "\n",
        "#raise to\n",
        "m=2**3\n",
        "print(m)\n",
        "\n",
        "#division\n",
        "o=10/3\n",
        "print(o)\n",
        "\n",
        "#floor division\n",
        "p=10//3\n",
        "print(p)"
      ],
      "metadata": {
        "colab": {
          "base_uri": "https://localhost:8080/"
        },
        "id": "k2iyHL66co6z",
        "outputId": "75f097ce-2cdb-4629-eae3-b5218ceeeb25"
      },
      "execution_count": null,
      "outputs": [
        {
          "output_type": "stream",
          "name": "stdout",
          "text": [
            "5\n",
            "8\n",
            "3.3333333333333335\n",
            "3\n"
          ]
        }
      ]
    },
    {
      "cell_type": "markdown",
      "source": [
        "**LIST & TUPLES**"
      ],
      "metadata": {
        "id": "76MnF6-_hSd2"
      }
    },
    {
      "cell_type": "code",
      "source": [
        "to_buy=['books','eraser','pen','sharpner']\n",
        "print(to_buy)"
      ],
      "metadata": {
        "colab": {
          "base_uri": "https://localhost:8080/"
        },
        "id": "1CWabAvmgAKO",
        "outputId": "5d5c9d57-7566-4473-a8d8-58962dabe420"
      },
      "execution_count": null,
      "outputs": [
        {
          "output_type": "stream",
          "name": "stdout",
          "text": [
            "['books', 'eraser', 'pen', 'sharpner']\n"
          ]
        }
      ]
    },
    {
      "cell_type": "code",
      "source": [
        "#to update a list\n",
        "to_buy.append('Scale') #this adds the element to the end\n",
        "print(to_buy)"
      ],
      "metadata": {
        "colab": {
          "base_uri": "https://localhost:8080/"
        },
        "id": "QPq8tmHdhuc0",
        "outputId": "d5c8a646-fbc1-4f68-9ecd-ff3c4d2f9906"
      },
      "execution_count": null,
      "outputs": [
        {
          "output_type": "stream",
          "name": "stdout",
          "text": [
            "['books', 'eraser', 'pen', 'sharpner', 'Scale']\n"
          ]
        }
      ]
    },
    {
      "cell_type": "code",
      "source": [
        "#removing an item\n",
        "to_buy.remove('Scale')\n",
        "print(to_buy)"
      ],
      "metadata": {
        "colab": {
          "base_uri": "https://localhost:8080/"
        },
        "id": "ryqJMcwtjESs",
        "outputId": "4876c4c4-519b-4b51-b3a9-16c5552b97c2"
      },
      "execution_count": null,
      "outputs": [
        {
          "output_type": "stream",
          "name": "stdout",
          "text": [
            "['books', 'eraser', 'pen', 'sharpner']\n"
          ]
        }
      ]
    },
    {
      "cell_type": "code",
      "source": [
        "#inserting an item\n",
        "to_insert=\"notepad\"\n",
        "to_buy.insert(5,to_insert) #inserts items at any index\n",
        "\n",
        "print(to_buy)"
      ],
      "metadata": {
        "colab": {
          "base_uri": "https://localhost:8080/"
        },
        "id": "Vzmlc-s0jFh9",
        "outputId": "c132b51c-5c5c-40db-e9e5-4c3991024ddd"
      },
      "execution_count": null,
      "outputs": [
        {
          "output_type": "stream",
          "name": "stdout",
          "text": [
            "['books', 'notepad', 'Pencil', 'Pencil', 'Paper', 'notepad', 'notepad', 'Paper', 'eraser', 'pen', 'sharpner']\n"
          ]
        }
      ]
    },
    {
      "cell_type": "code",
      "source": [
        "#TUPLE\n",
        "\n",
        "items=('veg','fruits')\n",
        "items"
      ],
      "metadata": {
        "colab": {
          "base_uri": "https://localhost:8080/"
        },
        "id": "oSzg4r0CjRDF",
        "outputId": "a8ad33ac-deb1-436e-87c9-444c6c4556ec"
      },
      "execution_count": null,
      "outputs": [
        {
          "output_type": "execute_result",
          "data": {
            "text/plain": [
              "('veg', 'fruits')"
            ]
          },
          "metadata": {},
          "execution_count": 68
        }
      ]
    },
    {
      "cell_type": "code",
      "source": [
        "items.append(\"choocolate\") #tuple is immutable"
      ],
      "metadata": {
        "colab": {
          "base_uri": "https://localhost:8080/",
          "height": 141
        },
        "id": "Mn9_iI2mkRSd",
        "outputId": "60995cc1-92d9-46d9-face-5104ccd13319"
      },
      "execution_count": null,
      "outputs": [
        {
          "output_type": "error",
          "ename": "AttributeError",
          "evalue": "'tuple' object has no attribute 'append'",
          "traceback": [
            "\u001b[0;31m---------------------------------------------------------------------------\u001b[0m",
            "\u001b[0;31mAttributeError\u001b[0m                            Traceback (most recent call last)",
            "\u001b[0;32m<ipython-input-69-abb52de31933>\u001b[0m in \u001b[0;36m<cell line: 1>\u001b[0;34m()\u001b[0m\n\u001b[0;32m----> 1\u001b[0;31m \u001b[0mitems\u001b[0m\u001b[0;34m.\u001b[0m\u001b[0mappend\u001b[0m\u001b[0;34m(\u001b[0m\u001b[0;34m\"choocolate\"\u001b[0m\u001b[0;34m)\u001b[0m\u001b[0;34m\u001b[0m\u001b[0;34m\u001b[0m\u001b[0m\n\u001b[0m",
            "\u001b[0;31mAttributeError\u001b[0m: 'tuple' object has no attribute 'append'"
          ]
        }
      ]
    },
    {
      "cell_type": "code",
      "source": [
        "#defining a set\n",
        "\n",
        "ab={1,2,3,1,2,3,4,5,'a','b'} # returns only the distict values\n",
        "ab"
      ],
      "metadata": {
        "colab": {
          "base_uri": "https://localhost:8080/"
        },
        "id": "A8XRL7vvkYYt",
        "outputId": "1b8779f5-328e-4ec2-a2e4-bd923d026a72"
      },
      "execution_count": null,
      "outputs": [
        {
          "output_type": "execute_result",
          "data": {
            "text/plain": [
              "{1, 2, 3, 4, 5, 'a', 'b'}"
            ]
          },
          "metadata": {},
          "execution_count": 75
        }
      ]
    },
    {
      "cell_type": "code",
      "source": [],
      "metadata": {
        "id": "32vtOsF8k8Xn"
      },
      "execution_count": null,
      "outputs": []
    },
    {
      "cell_type": "markdown",
      "source": [
        "# **Realational Operators**"
      ],
      "metadata": {
        "id": "tWXwuaTBlMOI"
      }
    },
    {
      "cell_type": "code",
      "source": [
        "a=5\n",
        "b=3\n",
        "a>=b"
      ],
      "metadata": {
        "colab": {
          "base_uri": "https://localhost:8080/"
        },
        "id": "HzeTdPvilPu1",
        "outputId": "61bd0347-915c-47d3-8fd1-86490c55d1bc"
      },
      "execution_count": null,
      "outputs": [
        {
          "output_type": "execute_result",
          "data": {
            "text/plain": [
              "True"
            ]
          },
          "metadata": {},
          "execution_count": 85
        }
      ]
    },
    {
      "cell_type": "code",
      "source": [
        "a==b"
      ],
      "metadata": {
        "colab": {
          "base_uri": "https://localhost:8080/"
        },
        "id": "GYWzSMXnlSxd",
        "outputId": "679639b0-9837-49f5-f8a6-b048e03b4d50"
      },
      "execution_count": null,
      "outputs": [
        {
          "output_type": "execute_result",
          "data": {
            "text/plain": [
              "False"
            ]
          },
          "metadata": {},
          "execution_count": 80
        }
      ]
    },
    {
      "cell_type": "code",
      "source": [
        "a!=b"
      ],
      "metadata": {
        "colab": {
          "base_uri": "https://localhost:8080/"
        },
        "id": "dwtp0vBplkqP",
        "outputId": "d82dacb3-a107-407f-ac52-48751d505adc"
      },
      "execution_count": null,
      "outputs": [
        {
          "output_type": "execute_result",
          "data": {
            "text/plain": [
              "True"
            ]
          },
          "metadata": {},
          "execution_count": 81
        }
      ]
    },
    {
      "cell_type": "code",
      "source": [
        "a==5 and b<4"
      ],
      "metadata": {
        "colab": {
          "base_uri": "https://localhost:8080/"
        },
        "id": "h2b1ogtulnWe",
        "outputId": "baa108df-5ff9-4b8c-f560-d57cc69dbe42"
      },
      "execution_count": null,
      "outputs": [
        {
          "output_type": "execute_result",
          "data": {
            "text/plain": [
              "True"
            ]
          },
          "metadata": {},
          "execution_count": 86
        }
      ]
    },
    {
      "cell_type": "code",
      "source": [
        "a is 5"
      ],
      "metadata": {
        "colab": {
          "base_uri": "https://localhost:8080/"
        },
        "id": "rb5WLywQlsPm",
        "outputId": "f23979a6-fcfd-47a1-c17c-a44f65096487"
      },
      "execution_count": null,
      "outputs": [
        {
          "output_type": "stream",
          "name": "stderr",
          "text": [
            "<>:1: SyntaxWarning: \"is\" with a literal. Did you mean \"==\"?\n",
            "<>:1: SyntaxWarning: \"is\" with a literal. Did you mean \"==\"?\n",
            "<ipython-input-87-80e6b7447efe>:1: SyntaxWarning: \"is\" with a literal. Did you mean \"==\"?\n",
            "  a is 5\n"
          ]
        },
        {
          "output_type": "execute_result",
          "data": {
            "text/plain": [
              "True"
            ]
          },
          "metadata": {},
          "execution_count": 87
        }
      ]
    },
    {
      "cell_type": "code",
      "source": [
        "a is not b"
      ],
      "metadata": {
        "colab": {
          "base_uri": "https://localhost:8080/"
        },
        "id": "AdmMZ25Nl17G",
        "outputId": "f1f981f0-6108-4f33-f946-82267ecc6a5f"
      },
      "execution_count": null,
      "outputs": [
        {
          "output_type": "execute_result",
          "data": {
            "text/plain": [
              "True"
            ]
          },
          "metadata": {},
          "execution_count": 88
        }
      ]
    },
    {
      "cell_type": "markdown",
      "source": [
        "# **Conditional Statements**"
      ],
      "metadata": {
        "id": "EsvFwhZ9s_qJ"
      }
    },
    {
      "cell_type": "code",
      "source": [
        "\n",
        "budget=int(input(\"What is your budget: \"))\n",
        "price_of_tv = 20000\n",
        "emi_available = True\n",
        "emi_amt=2000\n",
        "\n",
        "if price_of_tv <= budget:\n",
        "  print(\"I will buy the tv\")\n",
        "elif emi_amt<price_of_tv:\n",
        "  print(\"I will buy the tv\")\n",
        "else:\n",
        "  print(\"I will not buy the tv\")"
      ],
      "metadata": {
        "colab": {
          "base_uri": "https://localhost:8080/"
        },
        "id": "CBC0Bp_VtGVR",
        "outputId": "6eab8e18-6c1a-4421-e335-cc298c47e4ec"
      },
      "execution_count": null,
      "outputs": [
        {
          "output_type": "stream",
          "name": "stdout",
          "text": [
            "What is your budget: 18000\n",
            "I will buy the tv\n"
          ]
        }
      ]
    },
    {
      "cell_type": "code",
      "source": [
        "current_temp=int(input(\"What is the current temperature: \"))\n",
        "\n",
        "if current_temp==20:\n",
        "  print(\"I will not go out\")\n",
        "elif current_temp>20:\n",
        "  print(\"I will not take the umbrella\")\n",
        "else:\n",
        "  print(\"I will  take umbrella\")"
      ],
      "metadata": {
        "colab": {
          "base_uri": "https://localhost:8080/"
        },
        "id": "BgegZP8vl6gu",
        "outputId": "2c4b1bb0-0b35-4681-838d-ca565e2e04b6"
      },
      "execution_count": null,
      "outputs": [
        {
          "output_type": "stream",
          "name": "stdout",
          "text": [
            "What is the current temperature: 20\n",
            "I will not go out\n"
          ]
        }
      ]
    },
    {
      "cell_type": "code",
      "source": [
        "#Checking the geratest number\n",
        "  # METHOD 1 with nested if\n",
        "a=int(input(\"Enter number 1: \"))\n",
        "b=int(input(\"Enter number 2: \"))\n",
        "c=int(input(\"Enter number 3: \"))\n",
        "\n",
        "if a>b:\n",
        "  if b>c:\n",
        "    print(\"a is greater\")\n",
        "if b>c:\n",
        "  if b>a:\n",
        "    print(\"b is greater\")\n",
        "else:\n",
        "  print(\"c is greater\")"
      ],
      "metadata": {
        "colab": {
          "base_uri": "https://localhost:8080/"
        },
        "id": "DrWi2TL5zIrZ",
        "outputId": "deee2fd6-b6ca-481b-a763-af0f7ab91e76"
      },
      "execution_count": null,
      "outputs": [
        {
          "output_type": "stream",
          "name": "stdout",
          "text": [
            "Enter number 1: 8\n",
            "Enter number 2: 10\n",
            "Enter number 3: 6\n",
            "b is greater\n"
          ]
        }
      ]
    },
    {
      "cell_type": "code",
      "source": [
        "#Checking the greatest number\n",
        "  # METHOD 2 with relational operators\n",
        "\n",
        "a=int(input(\"Enter number 1: \"))\n",
        "b=int(input(\"Enter number 2: \"))\n",
        "c=int(input(\"Enter number 3: \"))\n",
        "\n",
        "if a>b and b>c:\n",
        "    print(\"a is greater\")\n",
        "if b>c and b>a:\n",
        "    print(\"b is greater\")\n",
        "else:\n",
        "  print(\"c is greater\")"
      ],
      "metadata": {
        "colab": {
          "base_uri": "https://localhost:8080/"
        },
        "id": "aCWX9SrO0ykJ",
        "outputId": "3613e26c-2598-4e9f-a179-3ca589ac3527"
      },
      "execution_count": null,
      "outputs": [
        {
          "output_type": "stream",
          "name": "stdout",
          "text": [
            "Enter number 1: 10\n",
            "Enter number 2: 8\n",
            "Enter number 3: 15\n",
            "c is greater\n"
          ]
        }
      ]
    },
    {
      "cell_type": "code",
      "source": [
        "#ODD - EVEN CHECKER\n",
        "\n",
        "number=int(input(\"Enter your input: \"))\n",
        "\n",
        "if number%2==0:\n",
        "  print(\"The number is even\")\n",
        "else:\n",
        "  print(\"The number is odd\")\n"
      ],
      "metadata": {
        "colab": {
          "base_uri": "https://localhost:8080/"
        },
        "id": "O9DAI3cE2Mb7",
        "outputId": "b826c0bb-7d5e-408d-8ee2-87ba456d8140"
      },
      "execution_count": null,
      "outputs": [
        {
          "output_type": "stream",
          "name": "stdout",
          "text": [
            "Enter your input: 8\n",
            "The number is even\n"
          ]
        }
      ]
    },
    {
      "cell_type": "markdown",
      "source": [
        "# **CALCULATOR APP**\n",
        "\n",
        "\n",
        "*  Accept two values from user\n",
        "*  Accept choice from user , 1. add, 2.sub, 3.mul, 4.divide if none choosed then wrong choice\n",
        "*   Perfrom operation and display output\n",
        "\n",
        "\n",
        "\n"
      ],
      "metadata": {
        "id": "FIUyLxqH4Oy0"
      }
    },
    {
      "cell_type": "code",
      "source": [
        "print(\"\\n\\t\\t\\t***************CALCULATOR****************\\n\\n\")\n",
        "num1=float(input(\"Enter the number 1: \"))\n",
        "num2=float(input(\"Enter the number 2: \"))\n",
        "\n",
        "choice=int(input(\"\\nEnter your choice:\\n\\t1.Add\\n\\t2.Subtract\\n\\t3.Multiply\\n\\t4.Divide\\n\\n\"))\n",
        "if choice==1:\n",
        "  print(\"\\nYour choice is Addition\\n\")\n",
        "  print(\"Result: \",num1+num2)\n",
        "elif choice==2:\n",
        "  print(\"\\nYour choice is Subtraction\\n\")\n",
        "  print(\"Result: \",num1-num2)\n",
        "elif choice==3:\n",
        "  print(\"\\nYour choice is Multiplication\\n\")\n",
        "  print(\"Result: \",num1*num2)\n",
        "elif choice==4:\n",
        "  print(\"\\nYour choice is Division\\n\")\n",
        "  print(\"Result: \",num1/num2)\n",
        "else:\n",
        "  print(\"Invalid choice\")"
      ],
      "metadata": {
        "colab": {
          "base_uri": "https://localhost:8080/"
        },
        "id": "o0FcA4na3V27",
        "outputId": "5080414d-26da-4189-c2bb-88d8e17c4c51"
      },
      "execution_count": null,
      "outputs": [
        {
          "output_type": "stream",
          "name": "stdout",
          "text": [
            "\n",
            "\t\t\t***************CALCULATOR****************\n",
            "\n",
            "\n",
            "Enter the number 1: 98\n",
            "Enter the number 2: 45.2\n",
            "\n",
            "Enter your choice:\n",
            "\t1.Add\n",
            "\t2.Subtract\n",
            "\t3.Multiply\n",
            "\t4.Divide\n",
            "\n",
            "2\n",
            "\n",
            "Your choice is Subtraction\n",
            "\n",
            "Result:  52.8\n"
          ]
        }
      ]
    },
    {
      "cell_type": "markdown",
      "source": [
        "#**ITERATIVES**"
      ],
      "metadata": {
        "id": "HEf96SzXwrCL"
      }
    },
    {
      "cell_type": "markdown",
      "source": [
        "***FOR LOOPS***"
      ],
      "metadata": {
        "id": "PkUgTIvuyr2C"
      }
    },
    {
      "cell_type": "code",
      "source": [
        "#PRINTING FROM A TUPLE\n",
        "\n",
        "num=[1,2,3,4,5]\n",
        "for i in num:\n",
        "  print(i)"
      ],
      "metadata": {
        "id": "SqXU9aFk6Lox",
        "colab": {
          "base_uri": "https://localhost:8080/"
        },
        "outputId": "230aa014-0926-481b-e5c0-82e2d7bdcfee"
      },
      "execution_count": 1,
      "outputs": [
        {
          "output_type": "stream",
          "name": "stdout",
          "text": [
            "1\n",
            "2\n",
            "3\n",
            "4\n",
            "5\n"
          ]
        }
      ]
    },
    {
      "cell_type": "code",
      "source": [
        "#PRINTING NUM USING RANGE\n",
        "for i in range(5):\n",
        "  print(i)"
      ],
      "metadata": {
        "colab": {
          "base_uri": "https://localhost:8080/"
        },
        "id": "9Lpb20AhxzAk",
        "outputId": "7083c83c-1c12-46a1-9b70-d2924614cb88"
      },
      "execution_count": 4,
      "outputs": [
        {
          "output_type": "stream",
          "name": "stdout",
          "text": [
            "0\n",
            "1\n",
            "2\n",
            "3\n",
            "4\n"
          ]
        }
      ]
    },
    {
      "cell_type": "code",
      "source": [
        "#PRINTING NUM USING RANGE WITH START AND END VAL\n",
        "\n",
        "for i in range(1,6):\n",
        "  print(i)"
      ],
      "metadata": {
        "colab": {
          "base_uri": "https://localhost:8080/"
        },
        "id": "Jgazuw6nyTvs",
        "outputId": "da6348b1-7397-43a7-a5a7-307380ea377c"
      },
      "execution_count": 3,
      "outputs": [
        {
          "output_type": "stream",
          "name": "stdout",
          "text": [
            "1\n",
            "2\n",
            "3\n",
            "4\n",
            "5\n"
          ]
        }
      ]
    },
    {
      "cell_type": "code",
      "source": [
        "#PRINTING ODD NUMBERS < range(start,stop,step) >\n",
        "\n",
        "for i in range(1,11,2):\n",
        "  print(i)"
      ],
      "metadata": {
        "colab": {
          "base_uri": "https://localhost:8080/"
        },
        "id": "QDIPwbOayp6y",
        "outputId": "c5e5676e-5388-49d9-fb33-7b7db03bf3e8"
      },
      "execution_count": 5,
      "outputs": [
        {
          "output_type": "stream",
          "name": "stdout",
          "text": [
            "1\n",
            "3\n",
            "5\n",
            "7\n",
            "9\n"
          ]
        }
      ]
    },
    {
      "cell_type": "code",
      "source": [
        "#printing all the number within a user inputted num\n",
        "\n",
        "n=int(input(\"Enter the last number: \"))\n",
        "sum=0\n",
        "for number in range(1,n):\n",
        "  sum+=number\n",
        "print(sum)"
      ],
      "metadata": {
        "colab": {
          "base_uri": "https://localhost:8080/"
        },
        "id": "L-MBWarRzQej",
        "outputId": "5e6e8320-792e-4593-a98a-6232042ec639"
      },
      "execution_count": 9,
      "outputs": [
        {
          "output_type": "stream",
          "name": "stdout",
          "text": [
            "Enter the last number: 8\n",
            "28\n"
          ]
        }
      ]
    },
    {
      "cell_type": "code",
      "source": [
        "#PRINTING LETTERS FROM A STRING\n",
        "\n",
        "name='hiba'\n",
        "for letter in name:\n",
        "  print(letter)"
      ],
      "metadata": {
        "colab": {
          "base_uri": "https://localhost:8080/"
        },
        "id": "bZ7pGFWuztWF",
        "outputId": "74708391-2c73-4985-9c9b-19f89c72f36d"
      },
      "execution_count": 10,
      "outputs": [
        {
          "output_type": "stream",
          "name": "stdout",
          "text": [
            "h\n",
            "i\n",
            "b\n",
            "a\n"
          ]
        }
      ]
    },
    {
      "cell_type": "code",
      "source": [
        "#USING LEN()\n",
        "\n",
        "list_a=[1,2,3,4,5,6,'',7,8]\n",
        "name=\"hiba\"\n",
        "\n",
        "print(len(list_a))\n",
        "print(len(name))"
      ],
      "metadata": {
        "colab": {
          "base_uri": "https://localhost:8080/"
        },
        "id": "wITXfqrG1CuU",
        "outputId": "1e8431bc-06c8-4a2a-b3da-f8d5b5bcfebb"
      },
      "execution_count": 12,
      "outputs": [
        {
          "output_type": "stream",
          "name": "stdout",
          "text": [
            "9\n",
            "4\n"
          ]
        }
      ]
    },
    {
      "cell_type": "code",
      "source": [
        "list_b=['a','b','c','d','e']\n",
        "\n",
        "for let in range(len(list_b)):\n",
        "  print(let,list_b[let])"
      ],
      "metadata": {
        "colab": {
          "base_uri": "https://localhost:8080/"
        },
        "id": "A-RMPZC71ifD",
        "outputId": "4a8d25cc-b92b-4dd9-8238-0e2f23685fc0"
      },
      "execution_count": 15,
      "outputs": [
        {
          "output_type": "stream",
          "name": "stdout",
          "text": [
            "0 a\n",
            "1 b\n",
            "2 c\n",
            "3 d\n",
            "4 e\n"
          ]
        }
      ]
    },
    {
      "cell_type": "code",
      "source": [
        "#printing the sum of even numbers within a range\n",
        "\n",
        "num_1=int(input(\"Enter the limit of sum: \"))\n",
        "sum=0\n",
        "for num in range(0,num_1+1,2):\n",
        "  sum+=num\n",
        "print(sum)"
      ],
      "metadata": {
        "colab": {
          "base_uri": "https://localhost:8080/"
        },
        "id": "yLKu6EgZ2ksr",
        "outputId": "35431628-a78e-4119-e161-85e1e9cdad54"
      },
      "execution_count": 20,
      "outputs": [
        {
          "output_type": "stream",
          "name": "stdout",
          "text": [
            "Enter the limit of sum: 10\n",
            "30\n"
          ]
        }
      ]
    },
    {
      "cell_type": "markdown",
      "source": [
        "***WHILE LOOP***\n",
        "\n",
        "```\n",
        "while test expression:\n",
        "  works if test expr is true\n",
        "else:\n",
        "  if false\n",
        "```\n",
        "\n"
      ],
      "metadata": {
        "id": "Zz7AqZqQ6gDs"
      }
    },
    {
      "cell_type": "code",
      "source": [
        "a=10\n",
        "\n",
        "while"
      ],
      "metadata": {
        "id": "vYgtYAv737Hs"
      },
      "execution_count": null,
      "outputs": []
    }
  ]
}