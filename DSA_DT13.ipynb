{
  "nbformat": 4,
  "nbformat_minor": 0,
  "metadata": {
    "colab": {
      "provenance": [],
      "authorship_tag": "ABX9TyPZhxKZUM89zKr6gf51yyu0",
      "include_colab_link": true
    },
    "kernelspec": {
      "name": "python3",
      "display_name": "Python 3"
    },
    "language_info": {
      "name": "python"
    }
  },
  "cells": [
    {
      "cell_type": "markdown",
      "metadata": {
        "id": "view-in-github",
        "colab_type": "text"
      },
      "source": [
        "<a href=\"https://colab.research.google.com/github/hiba0903/DSA-Daily-Tasks/blob/main/DSA_DT13.ipynb\" target=\"_parent\"><img src=\"https://colab.research.google.com/assets/colab-badge.svg\" alt=\"Open In Colab\"/></a>"
      ]
    },
    {
      "cell_type": "markdown",
      "source": [
        "1. Take input of age of 3 people by user and determine oldest and\n",
        "youngest among them."
      ],
      "metadata": {
        "id": "lDyaTuGFluCY"
      }
    },
    {
      "cell_type": "code",
      "source": [
        "482# Input ages of 3 people\n",
        "age1 = int(input(\"Enter the age of the first person: \"))\n",
        "age2 = int(input(\"Enter the age of the second person: \"))\n",
        "age3 = int(input(\"Enter the age of the third person: \"))\n",
        "\n",
        "# Find the oldest and youngest\n",
        "oldest = max(age1, age2, age3)\n",
        "youngest = min(age1, age2, age3)\n",
        "\n",
        "print(\"The oldest person is\", oldest, \"years old.\")\n",
        "print(\"The youngest person is\", youngest, \"years old.\")\n"
      ],
      "metadata": {
        "colab": {
          "base_uri": "https://localhost:8080/"
        },
        "id": "MkvgKhT0lxC_",
        "outputId": "f9f82c9c-5fd5-40db-b26e-df86b413feed"
      },
      "execution_count": 2,
      "outputs": [
        {
          "output_type": "stream",
          "name": "stdout",
          "text": [
            "Enter the age of the first person: 25\n",
            "Enter the age of the second person: 74\n",
            "Enter the age of the third person: 12\n",
            "The oldest person is 74 years old.\n",
            "The youngest person is 12 years old.\n"
          ]
        }
      ]
    },
    {
      "cell_type": "markdown",
      "source": [
        "2. Write a program that asks the user for their exam score and\n",
        "calculates their grade based on the following conditions:\n",
        "a. A score of 90 or above is an A.\n",
        "b. A score between 80 and 89 is a B.\n",
        "c. A score between 70 and 79 is a C.\n",
        "d. A score below 70 is an F.\n"
      ],
      "metadata": {
        "id": "aUlRJlcRh1x9"
      }
    },
    {
      "cell_type": "code",
      "source": [
        "# Input exam score\n",
        "score = float(input(\"Enter your exam score: \"))\n",
        "\n",
        "# Determine grade\n",
        "if score >= 90:\n",
        "    print(\"Your grade is: A\")\n",
        "elif score >= 80:\n",
        "    print(\"Your grade is: B\")\n",
        "elif score >= 70:\n",
        "    print(\"Your grade is: C\")\n",
        "else:\n",
        "    print(\"Your grade is: F\")\n"
      ],
      "metadata": {
        "id": "hHQJtKLvly0q",
        "colab": {
          "base_uri": "https://localhost:8080/"
        },
        "outputId": "1c745929-fe40-456f-81c7-c8fa13e3a9c2"
      },
      "execution_count": 3,
      "outputs": [
        {
          "output_type": "stream",
          "name": "stdout",
          "text": [
            "Enter your exam score: 52\n",
            "Your grade is: F\n"
          ]
        }
      ]
    },
    {
      "cell_type": "markdown",
      "source": [
        "3. Create a program that asks the user for a list of grocery items they\n",
        "need to buy and organizes the list alphabetically"
      ],
      "metadata": {
        "id": "9YN1Nv0hiCum"
      }
    },
    {
      "cell_type": "code",
      "source": [
        "# Input list of grocery items\n",
        "items = input(\"Enter your grocery items separated by commas: \")\n",
        "\n",
        "# Split the input into a list and sort it\n",
        "items_list = [item.strip() for item in items.split(',')]\n",
        "items_list.sort()\n",
        "\n",
        "print(\"Here is your sorted grocery list:\")\n",
        "for item in items_list:\n",
        "    print(item)\n"
      ],
      "metadata": {
        "colab": {
          "base_uri": "https://localhost:8080/"
        },
        "id": "x8tbp9M0h6pw",
        "outputId": "de8eeb0f-887b-4a48-ab2c-e14b23fda70c"
      },
      "execution_count": 4,
      "outputs": [
        {
          "output_type": "stream",
          "name": "stdout",
          "text": [
            "Enter your grocery items separated by commas: apple,peas,banana,oil\n",
            "Here is your sorted grocery list:\n",
            "apple\n",
            "banana\n",
            "oil\n",
            "peas\n"
          ]
        }
      ]
    },
    {
      "cell_type": "markdown",
      "source": [
        "4. Write a program that asks the user for an email address and\n",
        "checks if it is valid (contains an \"@\" symbol and a valid domain).\n"
      ],
      "metadata": {
        "id": "VXkoFnfYiTBZ"
      }
    },
    {
      "cell_type": "code",
      "source": [
        "# Input email address\n",
        "email = input(\"Enter your email address: \")\n",
        "\n",
        "# Check if the email address is valid\n",
        "if \"@\" in email and \".\" in email:\n",
        "    print(\"The email address is valid.\")\n",
        "else:\n",
        "    print(\"The email address is invalid.\")\n"
      ],
      "metadata": {
        "colab": {
          "base_uri": "https://localhost:8080/"
        },
        "id": "yBvMP4jsiKd0",
        "outputId": "01da8a76-1a67-45fe-f9aa-e5bd6f2993cb"
      },
      "execution_count": 5,
      "outputs": [
        {
          "output_type": "stream",
          "name": "stdout",
          "text": [
            "Enter your email address: hellomcos.bom\n",
            "The email address is invalid.\n"
          ]
        }
      ]
    },
    {
      "cell_type": "markdown",
      "source": [
        "5. Create a program that asks the user for the number of days they\n",
        "have delayed returning a library book. If the delay is less than or\n",
        "equal to 7 days, there is no fine. If the delay is between 8 and 30\n",
        "days, apply a fine of 2 rupees per day. If the delay is more than\n",
        "30 days, apply a fine of 5 rupees per day. Print the total fine\n",
        "amount.\n"
      ],
      "metadata": {
        "id": "ZlsPHvT9idIQ"
      }
    },
    {
      "cell_type": "code",
      "source": [
        "# Input number of days delayed\n",
        "days_delayed = int(input(\"Enter the number of days you are late in returning the book: \"))\n",
        "\n",
        "# Calculate fine\n",
        "if days_delayed <= 7:\n",
        "    fine = 0\n",
        "elif days_delayed <= 30:\n",
        "    fine = (days_delayed - 7) * 2\n",
        "else:\n",
        "    fine = (30 - 7) * 2 + (days_delayed - 30) * 5\n",
        "\n",
        "print(\"The total fine amount is\", fine, \"rupees.\")\n"
      ],
      "metadata": {
        "colab": {
          "base_uri": "https://localhost:8080/"
        },
        "id": "JH4FI4ooiZjj",
        "outputId": "85776404-b8c6-4917-c214-aa791390da45"
      },
      "execution_count": 6,
      "outputs": [
        {
          "output_type": "stream",
          "name": "stdout",
          "text": [
            "Enter the number of days you are late in returning the book: 5\n",
            "The total fine amount is 0 rupees.\n"
          ]
        }
      ]
    },
    {
      "cell_type": "markdown",
      "source": [
        "6. Write a program that checks if a given character is a vowel. Use\n",
        "the in operator to check if the character is present in a string of\n",
        "vowels (\"aeiou\")."
      ],
      "metadata": {
        "id": "BTjc3EOZiu-n"
      }
    },
    {
      "cell_type": "code",
      "source": [
        "# Input character\n",
        "char = input(\"Enter a character: \").lower()\n",
        "\n",
        "# Check if the character is a vowel\n",
        "if char in \"aeiou\":\n",
        "    print(char, \"is a vowel.\")\n",
        "else:\n",
        "    print(char, \"is not a vowel.\")\n"
      ],
      "metadata": {
        "colab": {
          "base_uri": "https://localhost:8080/"
        },
        "id": "Cb8idMTwirWi",
        "outputId": "550af633-ad40-4302-9111-e03c53da9c7f"
      },
      "execution_count": 7,
      "outputs": [
        {
          "output_type": "stream",
          "name": "stdout",
          "text": [
            "Enter a character: j\n",
            "j is not a vowel.\n"
          ]
        }
      ]
    },
    {
      "cell_type": "markdown",
      "source": [
        "7. Implement a program that calculates the factorial of a number\n",
        "using a loop.\n"
      ],
      "metadata": {
        "id": "hIkgtBZoi2lf"
      }
    },
    {
      "cell_type": "code",
      "source": [
        "# Input number\n",
        "num = int(input(\"Enter a number to find its factorial: \"))\n",
        "\n",
        "# Calculate factorial\n",
        "factorial = 1\n",
        "for i in range(1, num + 1):\n",
        "    factorial *= i\n",
        "\n",
        "print(\"The factorial of\", num, \"is\", factorial)\n"
      ],
      "metadata": {
        "colab": {
          "base_uri": "https://localhost:8080/"
        },
        "id": "Lb0hVYDCizM0",
        "outputId": "399f65cd-7f7a-4ce4-a18b-dade5121e871"
      },
      "execution_count": 8,
      "outputs": [
        {
          "output_type": "stream",
          "name": "stdout",
          "text": [
            "Enter a number to find its factorial: 6\n",
            "The factorial of 6 is 720\n"
          ]
        }
      ]
    },
    {
      "cell_type": "markdown",
      "source": [
        "8. Generate the Fibonacci sequence (0, 1, 1, 2, 3, ...) up to a certain\n",
        "limit using a loop"
      ],
      "metadata": {
        "id": "3DMxhTVJi_o5"
      }
    },
    {
      "cell_type": "code",
      "source": [
        "# Input the limit\n",
        "limit = int(input(\"Enter the limit for Fibonacci sequence: \"))\n",
        "\n",
        "# Generate Fibonacci sequence\n",
        "a, b = 0, 1\n",
        "while a <= limit:\n",
        "    print(a, end=\" \")\n",
        "    a, b = b, a + b\n",
        "print()  # for newline\n"
      ],
      "metadata": {
        "colab": {
          "base_uri": "https://localhost:8080/"
        },
        "id": "szPCHNvji5Km",
        "outputId": "95db75c9-1610-468a-98e8-42a374e6f787"
      },
      "execution_count": 9,
      "outputs": [
        {
          "output_type": "stream",
          "name": "stdout",
          "text": [
            "Enter the limit for Fibonacci sequence: 6\n",
            "0 1 1 2 3 5 \n"
          ]
        }
      ]
    },
    {
      "cell_type": "markdown",
      "source": [
        "9. Create a number guessing game where the computer generates a\n",
        "random number and the user has to guess it within a certain\n",
        "number of attempts using a loop."
      ],
      "metadata": {
        "id": "AxEyVKrZjLzy"
      }
    },
    {
      "cell_type": "code",
      "source": [
        "import random\n",
        "\n",
        "# Generate a random number between 1 and 100\n",
        "number = random.randint(1, 100)\n",
        "attempts = 0\n",
        "max_attempts = 10\n",
        "\n",
        "print(\"Guess the number between 1 and 100.\")\n",
        "\n",
        "while attempts < max_attempts:\n",
        "    guess = int(input(\"Enter your guess: \"))\n",
        "    attempts += 1\n",
        "\n",
        "    if guess < number:\n",
        "        print(\"Too low!\")\n",
        "    elif guess > number:\n",
        "        print(\"Too high!\")\n",
        "    else:\n",
        "        print(\"Congratulations! You guessed it right.\")\n",
        "        break\n",
        "else:\n",
        "    print(\"Sorry, you've used all your attempts. The number was\", number)\n"
      ],
      "metadata": {
        "colab": {
          "base_uri": "https://localhost:8080/"
        },
        "id": "At5uzs0CjIBi",
        "outputId": "2cb7c9c2-01b1-4453-b107-2ae8eb7ca810"
      },
      "execution_count": 10,
      "outputs": [
        {
          "output_type": "stream",
          "name": "stdout",
          "text": [
            "Guess the number between 1 and 100.\n",
            "Enter your guess: 25\n",
            "Too low!\n",
            "Enter your guess: 63\n",
            "Too low!\n",
            "Enter your guess: 99\n",
            "Too high!\n",
            "Enter your guess: 85\n",
            "Too low!\n",
            "Enter your guess: 95\n",
            "Too high!\n",
            "Enter your guess: 55\n",
            "Too low!\n",
            "Enter your guess: 63\n",
            "Too low!\n",
            "Enter your guess: 90\n",
            "Congratulations! You guessed it right.\n"
          ]
        }
      ]
    },
    {
      "cell_type": "markdown",
      "source": [
        "10. Write a menu driven calculator with following menu:\n",
        "a. Addition\n",
        "b. Subtraction\n",
        "c. Division\n",
        "d. Multiplication\n",
        "e. Exit"
      ],
      "metadata": {
        "id": "N9IjuprrkIay"
      }
    },
    {
      "cell_type": "code",
      "source": [
        "while True:\n",
        "    print(\"\\nMenu:\")\n",
        "    print(\"1. Addition\")\n",
        "    print(\"2. Subtraction\")\n",
        "    print(\"3. Division\")\n",
        "    print(\"4. Multiplication\")\n",
        "    print(\"5. Exit\")\n",
        "\n",
        "    choice = input(\"Enter your choice (1-5): \")\n",
        "\n",
        "    if choice == '5':\n",
        "        print(\"Exiting...\")\n",
        "        break\n",
        "\n",
        "    if choice in ['1', '2', '3', '4']:\n",
        "        num1 = float(input(\"Enter first number: \"))\n",
        "        num2 = float(input(\"Enter second number: \"))\n",
        "\n",
        "        if choice == '1':\n",
        "            result = num1 + num2\n",
        "            print(\"The result of addition is\", result)\n",
        "        elif choice == '2':\n",
        "            result = num1 - num2\n",
        "            print(\"The result of subtraction is\", result)\n",
        "        elif choice == '3':\n",
        "            if num2 != 0:\n",
        "                result = num1 / num2\n",
        "                print(\"The result of division is\", result)\n",
        "            else:\n",
        "                print(\"Error: Division by zero\")\n",
        "        elif choice == '4':\n",
        "            result = num1 * num2\n",
        "            print(\"The result of multiplication is\", result)\n",
        "    else:\n",
        "        print(\"Invalid choice, please enter a number between 1 and 5.\")\n"
      ],
      "metadata": {
        "colab": {
          "base_uri": "https://localhost:8080/"
        },
        "id": "FdAQSNZHjnoo",
        "outputId": "0a988c36-de2f-4c21-8c26-ff60715ca0e3"
      },
      "execution_count": 11,
      "outputs": [
        {
          "output_type": "stream",
          "name": "stdout",
          "text": [
            "\n",
            "Menu:\n",
            "1. Addition\n",
            "2. Subtraction\n",
            "3. Division\n",
            "4. Multiplication\n",
            "5. Exit\n",
            "Enter your choice (1-5): 2\n",
            "Enter first number: 52\n",
            "Enter second number: 32\n",
            "The result of subtraction is 20.0\n",
            "\n",
            "Menu:\n",
            "1. Addition\n",
            "2. Subtraction\n",
            "3. Division\n",
            "4. Multiplication\n",
            "5. Exit\n",
            "Enter your choice (1-5): 6\n",
            "Invalid choice, please enter a number between 1 and 5.\n",
            "\n",
            "Menu:\n",
            "1. Addition\n",
            "2. Subtraction\n",
            "3. Division\n",
            "4. Multiplication\n",
            "5. Exit\n",
            "Enter your choice (1-5): 5\n",
            "Exiting...\n"
          ]
        }
      ]
    },
    {
      "cell_type": "code",
      "source": [],
      "metadata": {
        "id": "dKMDt5eYkTC0"
      },
      "execution_count": null,
      "outputs": []
    }
  ]
}