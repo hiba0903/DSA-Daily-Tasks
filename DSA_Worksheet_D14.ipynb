{
  "nbformat": 4,
  "nbformat_minor": 0,
  "metadata": {
    "colab": {
      "provenance": [],
      "authorship_tag": "ABX9TyMyUlBCt2xwCMV1xbU7BFVg",
      "include_colab_link": true
    },
    "kernelspec": {
      "name": "python3",
      "display_name": "Python 3"
    },
    "language_info": {
      "name": "python"
    }
  },
  "cells": [
    {
      "cell_type": "markdown",
      "metadata": {
        "id": "view-in-github",
        "colab_type": "text"
      },
      "source": [
        "<a href=\"https://colab.research.google.com/github/hiba0903/DSA-Daily-Tasks/blob/main/DSA_Worksheet_D14.ipynb\" target=\"_parent\"><img src=\"https://colab.research.google.com/assets/colab-badge.svg\" alt=\"Open In Colab\"/></a>"
      ]
    },
    {
      "cell_type": "markdown",
      "source": [
        "1. Find the Maximum of Three Numbers"
      ],
      "metadata": {
        "id": "JhqxufFCJfGd"
      }
    },
    {
      "cell_type": "code",
      "execution_count": null,
      "metadata": {
        "id": "ZrUA6YArIaTw"
      },
      "outputs": [],
      "source": [
        "def max_of_three(a, b, c):\n",
        "    return max(a, b, c)\n"
      ]
    },
    {
      "cell_type": "code",
      "source": [
        "max_of_three(3,8,4)"
      ],
      "metadata": {
        "colab": {
          "base_uri": "https://localhost:8080/"
        },
        "id": "IWPJgbgHI7WA",
        "outputId": "c1bf161f-9d40-47ac-e8d3-a8b48b3c7d6d"
      },
      "execution_count": null,
      "outputs": [
        {
          "output_type": "execute_result",
          "data": {
            "text/plain": [
              "8"
            ]
          },
          "metadata": {},
          "execution_count": 2
        }
      ]
    },
    {
      "cell_type": "markdown",
      "source": [
        "2. Calculate the Area of a Circle"
      ],
      "metadata": {
        "id": "ueHHF4VnJ3kU"
      }
    },
    {
      "cell_type": "code",
      "source": [
        "import math\n",
        "\n",
        "def area_of_circle(radius):\n",
        "    return math.pi * radius ** 2"
      ],
      "metadata": {
        "id": "KR8w19P-JLhT"
      },
      "execution_count": null,
      "outputs": []
    },
    {
      "cell_type": "code",
      "source": [
        "area_of_circle(5)"
      ],
      "metadata": {
        "colab": {
          "base_uri": "https://localhost:8080/"
        },
        "id": "zhIqVGfGJWKW",
        "outputId": "96e2ac69-dcb4-446d-e9ed-4c7a04163356"
      },
      "execution_count": null,
      "outputs": [
        {
          "output_type": "execute_result",
          "data": {
            "text/plain": [
              "78.53981633974483"
            ]
          },
          "metadata": {},
          "execution_count": 4
        }
      ]
    },
    {
      "cell_type": "markdown",
      "source": [
        "3. Check if a Number is Prime"
      ],
      "metadata": {
        "id": "rjLg8OTsJ8sq"
      }
    },
    {
      "cell_type": "code",
      "source": [
        "def is_prime(n):\n",
        "    if n <= 1:\n",
        "        return False\n",
        "    if n <= 3:\n",
        "        return True\n",
        "    if n % 2 == 0 or n % 3 == 0:\n",
        "        return False\n",
        "    i = 5\n",
        "    while i * i <= n:\n",
        "        if n % i == 0 or n % (i + 2) == 0:\n",
        "            return False\n",
        "        i += 6\n",
        "    return True\n"
      ],
      "metadata": {
        "id": "FrAtL7GkJcv_"
      },
      "execution_count": null,
      "outputs": []
    },
    {
      "cell_type": "code",
      "source": [
        "is_prime(87)"
      ],
      "metadata": {
        "colab": {
          "base_uri": "https://localhost:8080/"
        },
        "id": "ngrBSfq3KA1a",
        "outputId": "258be497-285c-4b39-d1f8-efcd43c5ec6c"
      },
      "execution_count": null,
      "outputs": [
        {
          "output_type": "execute_result",
          "data": {
            "text/plain": [
              "False"
            ]
          },
          "metadata": {},
          "execution_count": 6
        }
      ]
    },
    {
      "cell_type": "markdown",
      "source": [
        "4. Check if a String is a Palindrome"
      ],
      "metadata": {
        "id": "mijtJ_aLKSSM"
      }
    },
    {
      "cell_type": "code",
      "source": [
        "def is_palindrome(s):\n",
        "    return s == s[::-1]\n"
      ],
      "metadata": {
        "id": "bDnjEVkLKHk8"
      },
      "execution_count": null,
      "outputs": []
    },
    {
      "cell_type": "code",
      "source": [
        "is_palindrome('hello')"
      ],
      "metadata": {
        "colab": {
          "base_uri": "https://localhost:8080/"
        },
        "id": "6RaC0PosKW68",
        "outputId": "b20ef019-b5c5-4bc4-c3a8-a49c418ccb2d"
      },
      "execution_count": null,
      "outputs": [
        {
          "output_type": "execute_result",
          "data": {
            "text/plain": [
              "False"
            ]
          },
          "metadata": {},
          "execution_count": 29
        }
      ]
    },
    {
      "cell_type": "markdown",
      "source": [
        "5. Calculate the Sum of All Numbers in a List"
      ],
      "metadata": {
        "id": "VQJihBiWK1Cr"
      }
    },
    {
      "cell_type": "code",
      "source": [
        "def sum_of_list(lst):\n",
        "    return sum(lst)\n"
      ],
      "metadata": {
        "id": "mr9x7dVLKeQA"
      },
      "execution_count": null,
      "outputs": []
    },
    {
      "cell_type": "code",
      "source": [
        "sum([1,8,6,1,2,4])"
      ],
      "metadata": {
        "colab": {
          "base_uri": "https://localhost:8080/"
        },
        "id": "GpEl1QJFQslj",
        "outputId": "d7660309-a1ca-4e35-b25c-5929de19371e"
      },
      "execution_count": null,
      "outputs": [
        {
          "output_type": "execute_result",
          "data": {
            "text/plain": [
              "22"
            ]
          },
          "metadata": {},
          "execution_count": 31
        }
      ]
    },
    {
      "cell_type": "markdown",
      "source": [
        "6. Find the Average of a List of Numbers"
      ],
      "metadata": {
        "id": "ha_jUjQjLzVj"
      }
    },
    {
      "cell_type": "code",
      "source": [
        "def average_of_list(lst):\n",
        "    return sum(lst) / len(lst) if lst else 0\n"
      ],
      "metadata": {
        "id": "owcg7RCkLEk5"
      },
      "execution_count": null,
      "outputs": []
    },
    {
      "cell_type": "code",
      "source": [
        "average_of_list([8,2,9])"
      ],
      "metadata": {
        "colab": {
          "base_uri": "https://localhost:8080/"
        },
        "id": "Lxk42HvGRXXU",
        "outputId": "9c2a5a28-c913-4549-d63f-89168629d690"
      },
      "execution_count": null,
      "outputs": [
        {
          "output_type": "execute_result",
          "data": {
            "text/plain": [
              "6.333333333333333"
            ]
          },
          "metadata": {},
          "execution_count": 33
        }
      ]
    },
    {
      "cell_type": "markdown",
      "source": [
        "7. Find the k-th Largest Element in an Unsorted List"
      ],
      "metadata": {
        "id": "uX8XXOrCL-pD"
      }
    },
    {
      "cell_type": "code",
      "source": [
        "import heapq\n",
        "\n",
        "def kth_largest(lst, k):\n",
        "    return heapq.nlargest(k, lst)[-1]\n"
      ],
      "metadata": {
        "id": "-T4YMa2eL2-R"
      },
      "execution_count": null,
      "outputs": []
    },
    {
      "cell_type": "code",
      "source": [
        "kth_largest([8,3,6,4,10], 5)"
      ],
      "metadata": {
        "colab": {
          "base_uri": "https://localhost:8080/"
        },
        "id": "Rx_3SBmaRhXn",
        "outputId": "53c967d6-53d0-46d2-e2e2-32115f07d1e5"
      },
      "execution_count": null,
      "outputs": [
        {
          "output_type": "execute_result",
          "data": {
            "text/plain": [
              "3"
            ]
          },
          "metadata": {},
          "execution_count": 34
        }
      ]
    },
    {
      "cell_type": "markdown",
      "source": [
        "8. Recursive Function to Find the Sum of Digits"
      ],
      "metadata": {
        "id": "Ro2tZXITMJIr"
      }
    },
    {
      "cell_type": "code",
      "source": [
        "def sum_of_digits(n):\n",
        "    if n == 0:\n",
        "        return 0\n",
        "    return n % 10 + sum_of_digits(n // 10)\n"
      ],
      "metadata": {
        "id": "E5CeZt1wMCPT"
      },
      "execution_count": null,
      "outputs": []
    },
    {
      "cell_type": "code",
      "source": [
        " sum_of_digits(636)"
      ],
      "metadata": {
        "colab": {
          "base_uri": "https://localhost:8080/"
        },
        "id": "erEPbFk-RsxF",
        "outputId": "68b92576-e06b-4022-8db4-9a37d5b510a5"
      },
      "execution_count": null,
      "outputs": [
        {
          "output_type": "execute_result",
          "data": {
            "text/plain": [
              "15"
            ]
          },
          "metadata": {},
          "execution_count": 36
        }
      ]
    },
    {
      "cell_type": "markdown",
      "source": [
        "9. Recursive Function to Calculate the Power of a Number"
      ],
      "metadata": {
        "id": "ZqA280OoMUKL"
      }
    },
    {
      "cell_type": "code",
      "source": [
        "def power(base, exp):\n",
        "    if exp == 0:\n",
        "        return 1\n",
        "    return base * power(base, exp - 1)\n"
      ],
      "metadata": {
        "id": "GrMzxLaRMP1y"
      },
      "execution_count": null,
      "outputs": []
    },
    {
      "cell_type": "code",
      "source": [
        "power(2, 3)"
      ],
      "metadata": {
        "colab": {
          "base_uri": "https://localhost:8080/"
        },
        "id": "JgI2RgtQR3GD",
        "outputId": "ad1c885e-76fd-4614-a158-b939b1fb2bc1"
      },
      "execution_count": null,
      "outputs": [
        {
          "output_type": "execute_result",
          "data": {
            "text/plain": [
              "8"
            ]
          },
          "metadata": {},
          "execution_count": 37
        }
      ]
    },
    {
      "cell_type": "markdown",
      "source": [
        "10. Find the Greatest Common Divisor (GCD) Using Euclidean Algorithm"
      ],
      "metadata": {
        "id": "UBY0_tK8MXmU"
      }
    },
    {
      "cell_type": "code",
      "source": [
        "def gcd(a, b):\n",
        "    while b:\n",
        "        a, b = b, a % b\n",
        "    return a\n"
      ],
      "metadata": {
        "id": "29pc1ot4MZUz"
      },
      "execution_count": null,
      "outputs": []
    },
    {
      "cell_type": "code",
      "source": [
        "gcd(5,2)"
      ],
      "metadata": {
        "colab": {
          "base_uri": "https://localhost:8080/"
        },
        "id": "yOYGEYMMR9__",
        "outputId": "d7922db0-4cfe-4514-acef-867d134a4655"
      },
      "execution_count": null,
      "outputs": [
        {
          "output_type": "execute_result",
          "data": {
            "text/plain": [
              "1"
            ]
          },
          "metadata": {},
          "execution_count": 38
        }
      ]
    },
    {
      "cell_type": "markdown",
      "source": [
        "11. Create a 1D Array of Numbers from 0 to 9"
      ],
      "metadata": {
        "id": "hH3xyqTSMnM1"
      }
    },
    {
      "cell_type": "code",
      "source": [
        "import numpy as np\n",
        "\n",
        "array_1d = np.arange(10)\n",
        "print(array_1d)\n"
      ],
      "metadata": {
        "colab": {
          "base_uri": "https://localhost:8080/"
        },
        "id": "IfJ7JXpoMmLe",
        "outputId": "1d4c525f-e901-45be-9f9c-89a3f195117c"
      },
      "execution_count": null,
      "outputs": [
        {
          "output_type": "stream",
          "name": "stdout",
          "text": [
            "[0 1 2 3 4 5 6 7 8 9]\n"
          ]
        }
      ]
    },
    {
      "cell_type": "markdown",
      "source": [
        "12. Create a 2D Array of Shape (3, 3) with Values Ranging from 1 to 9"
      ],
      "metadata": {
        "id": "AZaBnwy2MuCH"
      }
    },
    {
      "cell_type": "code",
      "source": [
        "array_2d = np.arange(1, 10).reshape(3, 3)\n",
        "print(array_2d)\n"
      ],
      "metadata": {
        "colab": {
          "base_uri": "https://localhost:8080/"
        },
        "id": "fxv-9whgMsiv",
        "outputId": "2ca7fef5-c17e-4bfb-e308-81c6123c1353"
      },
      "execution_count": null,
      "outputs": [
        {
          "output_type": "stream",
          "name": "stdout",
          "text": [
            "[[1 2 3]\n",
            " [4 5 6]\n",
            " [7 8 9]]\n"
          ]
        }
      ]
    },
    {
      "cell_type": "markdown",
      "source": [
        "13. Create a 3x3 Identity Matrix"
      ],
      "metadata": {
        "id": "kUWL0eRJM5sP"
      }
    },
    {
      "cell_type": "code",
      "source": [
        "identity_matrix = np.eye(3)\n",
        "print(identity_matrix)\n"
      ],
      "metadata": {
        "colab": {
          "base_uri": "https://localhost:8080/"
        },
        "id": "5eVmfTyOM4Q4",
        "outputId": "c14906ed-4331-459d-ae26-3054c78ef430"
      },
      "execution_count": null,
      "outputs": [
        {
          "output_type": "stream",
          "name": "stdout",
          "text": [
            "[[1. 0. 0.]\n",
            " [0. 1. 0.]\n",
            " [0. 0. 1.]]\n"
          ]
        }
      ]
    },
    {
      "cell_type": "markdown",
      "source": [
        "14. Create an Array of 10 Random Numbers and Find the Mean and Standard Deviation"
      ],
      "metadata": {
        "id": "6VX6ZoJYNDsf"
      }
    },
    {
      "cell_type": "code",
      "source": [
        "random_array = np.random.rand(10)\n",
        "mean = np.mean(random_array)\n",
        "std_dev = np.std(random_array)\n",
        "\n",
        "print(random_array)\n"
      ],
      "metadata": {
        "colab": {
          "base_uri": "https://localhost:8080/"
        },
        "id": "yHzbO2gTNBwU",
        "outputId": "c47a8d74-1ef9-40c1-ad69-e3dd32d5da6a"
      },
      "execution_count": null,
      "outputs": [
        {
          "output_type": "stream",
          "name": "stdout",
          "text": [
            "[0.51482094 0.25366593 0.83932016 0.56755479 0.16385852 0.1964103\n",
            " 0.56055667 0.19661298 0.56980515 0.11194406]\n"
          ]
        }
      ]
    },
    {
      "cell_type": "markdown",
      "source": [
        "15. Create a 1D Array of Numbers from 10 to 20 and Extract the First 5 Elements"
      ],
      "metadata": {
        "id": "AegL6FbMNQWy"
      }
    },
    {
      "cell_type": "code",
      "source": [
        "array_15 = np.arange(10, 21)\n",
        "first_5_elements = array_15[:5]\n",
        "print(array_15)\n",
        "print(first_5_elements)\n"
      ],
      "metadata": {
        "colab": {
          "base_uri": "https://localhost:8080/"
        },
        "id": "Hr86sw-GNOGf",
        "outputId": "791824c4-6fdc-40bb-f397-380f83c3577c"
      },
      "execution_count": null,
      "outputs": [
        {
          "output_type": "stream",
          "name": "stdout",
          "text": [
            "[10 11 12 13 14 15 16 17 18 19 20]\n",
            "[10 11 12 13 14]\n"
          ]
        }
      ]
    },
    {
      "cell_type": "markdown",
      "source": [
        "16. Create a 2D Array of Shape (4, 4) and Extract the Second Row"
      ],
      "metadata": {
        "id": "THZkyTzSNgbp"
      }
    },
    {
      "cell_type": "code",
      "source": [
        "array_2d_4x4 = np.arange(16).reshape(4, 4)\n",
        "second_row = array_2d_4x4[1]\n",
        "print(array_2d_4x4)\n",
        "print(second_row)"
      ],
      "metadata": {
        "colab": {
          "base_uri": "https://localhost:8080/"
        },
        "id": "8EP7bkdzNeL2",
        "outputId": "0bb7868d-afb3-4962-8437-20dcfa95fec4"
      },
      "execution_count": null,
      "outputs": [
        {
          "output_type": "stream",
          "name": "stdout",
          "text": [
            "[[ 0  1  2  3]\n",
            " [ 4  5  6  7]\n",
            " [ 8  9 10 11]\n",
            " [12 13 14 15]]\n",
            "[4 5 6 7]\n"
          ]
        }
      ]
    },
    {
      "cell_type": "markdown",
      "source": [
        "17. Create Two 1D Arrays of Length 5 with Values Ranging from 1 to 5 and 6 to 10. Perform Element-wise Addition"
      ],
      "metadata": {
        "id": "h4CDG7iKNv2A"
      }
    },
    {
      "cell_type": "code",
      "source": [
        "array1 = np.arange(1, 6)\n",
        "array2 = np.arange(6, 11)\n",
        "elementwise_sum = array1 + array2\n",
        "\n",
        "print(array1)\n",
        "print(array2)\n",
        "\n",
        "print(elementwise_sum)"
      ],
      "metadata": {
        "colab": {
          "base_uri": "https://localhost:8080/"
        },
        "id": "EeSycIeEODso",
        "outputId": "f24829ba-3ceb-4e36-9ec0-02178ffa39dc"
      },
      "execution_count": null,
      "outputs": [
        {
          "output_type": "stream",
          "name": "stdout",
          "text": [
            "[1 2 3 4 5]\n",
            "[ 6  7  8  9 10]\n",
            "[ 7  9 11 13 15]\n"
          ]
        }
      ]
    },
    {
      "cell_type": "markdown",
      "source": [
        "18. Create a 1D Array of 10 Random Numbers and Replace All Elements Less Than 0.5 with 0"
      ],
      "metadata": {
        "id": "Z8vzsu4cOW7r"
      }
    },
    {
      "cell_type": "code",
      "source": [
        "random_array_18 = np.random.rand(10)\n",
        "random_array_18[random_array_18 < 0.5] = 0\n",
        "\n",
        "print(random_array_18)\n"
      ],
      "metadata": {
        "colab": {
          "base_uri": "https://localhost:8080/"
        },
        "id": "sBFjrzobOYRR",
        "outputId": "c33a8763-f913-449c-f0cf-a7ebdd2a6eae"
      },
      "execution_count": null,
      "outputs": [
        {
          "output_type": "stream",
          "name": "stdout",
          "text": [
            "[0.9082417  0.67055136 0.         0.         0.         0.\n",
            " 0.         0.         0.64194999 0.99328975]\n"
          ]
        }
      ]
    },
    {
      "cell_type": "code",
      "source": [],
      "metadata": {
        "id": "rtYBTfC-Oe64"
      },
      "execution_count": null,
      "outputs": []
    }
  ]
}